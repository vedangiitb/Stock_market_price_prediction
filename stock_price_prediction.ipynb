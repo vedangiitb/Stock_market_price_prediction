{
  "nbformat": 4,
  "nbformat_minor": 0,
  "metadata": {
    "colab": {
      "provenance": []
    },
    "kernelspec": {
      "name": "python3",
      "display_name": "Python 3"
    },
    "language_info": {
      "name": "python"
    }
  },
  "cells": [
    {
      "cell_type": "markdown",
      "source": [
        "Importing required libraries"
      ],
      "metadata": {
        "id": "hEVn__tAnDoH"
      }
    },
    {
      "cell_type": "code",
      "source": [
        "!pip install yfinance==0.1.67"
      ],
      "metadata": {
        "colab": {
          "base_uri": "https://localhost:8080/"
        },
        "id": "xJyFxV0VKb9B",
        "outputId": "2f451108-8db7-4366-b51e-316dad56faae"
      },
      "execution_count": null,
      "outputs": [
        {
          "output_type": "stream",
          "name": "stdout",
          "text": [
            "Looking in indexes: https://pypi.org/simple, https://us-python.pkg.dev/colab-wheels/public/simple/\n",
            "Collecting yfinance==0.1.67\n",
            "  Downloading yfinance-0.1.67-py2.py3-none-any.whl (25 kB)\n",
            "Requirement already satisfied: lxml>=4.5.1 in /usr/local/lib/python3.8/dist-packages (from yfinance==0.1.67) (4.9.2)\n",
            "Requirement already satisfied: numpy>=1.15 in /usr/local/lib/python3.8/dist-packages (from yfinance==0.1.67) (1.22.4)\n",
            "Requirement already satisfied: multitasking>=0.0.7 in /usr/local/lib/python3.8/dist-packages (from yfinance==0.1.67) (0.0.11)\n",
            "Requirement already satisfied: pandas>=0.24 in /usr/local/lib/python3.8/dist-packages (from yfinance==0.1.67) (1.3.5)\n",
            "Requirement already satisfied: requests>=2.20 in /usr/local/lib/python3.8/dist-packages (from yfinance==0.1.67) (2.25.1)\n",
            "Requirement already satisfied: pytz>=2017.3 in /usr/local/lib/python3.8/dist-packages (from pandas>=0.24->yfinance==0.1.67) (2022.7.1)\n",
            "Requirement already satisfied: python-dateutil>=2.7.3 in /usr/local/lib/python3.8/dist-packages (from pandas>=0.24->yfinance==0.1.67) (2.8.2)\n",
            "Requirement already satisfied: urllib3<1.27,>=1.21.1 in /usr/local/lib/python3.8/dist-packages (from requests>=2.20->yfinance==0.1.67) (1.26.14)\n",
            "Requirement already satisfied: certifi>=2017.4.17 in /usr/local/lib/python3.8/dist-packages (from requests>=2.20->yfinance==0.1.67) (2022.12.7)\n",
            "Requirement already satisfied: idna<3,>=2.5 in /usr/local/lib/python3.8/dist-packages (from requests>=2.20->yfinance==0.1.67) (2.10)\n",
            "Requirement already satisfied: chardet<5,>=3.0.2 in /usr/local/lib/python3.8/dist-packages (from requests>=2.20->yfinance==0.1.67) (4.0.0)\n",
            "Requirement already satisfied: six>=1.5 in /usr/local/lib/python3.8/dist-packages (from python-dateutil>=2.7.3->pandas>=0.24->yfinance==0.1.67) (1.15.0)\n",
            "Installing collected packages: yfinance\n",
            "Successfully installed yfinance-0.1.67\n"
          ]
        }
      ]
    },
    {
      "cell_type": "code",
      "execution_count": null,
      "metadata": {
        "id": "CWqQyUsz30T3"
      },
      "outputs": [],
      "source": [
        "# importing libraries\n",
        "import pandas as pd\n",
        "import matplotlib.pyplot as plt\n",
        "import numpy as np\n",
        "import tensorflow as tf\n",
        "from tensorflow import keras\n",
        "import seaborn as sns\n",
        "import os\n",
        "from datetime import datetime\n",
        "import requests\n",
        "from bs4 import BeautifulSoup\n",
        "import requests\n",
        "import warnings\n",
        "warnings.filterwarnings(\"ignore\")\n",
        "import yfinance as yf\n",
        "import sklearn"
      ]
    },
    {
      "cell_type": "code",
      "source": [
        "zomato = yf.Ticker('ZOMATO.NS') "
      ],
      "metadata": {
        "id": "BGLJI999KiEU"
      },
      "execution_count": null,
      "outputs": []
    },
    {
      "cell_type": "code",
      "source": [
        "zomato = zomato.history(period = 'max')"
      ],
      "metadata": {
        "id": "7UrtiiglK3Y7"
      },
      "execution_count": null,
      "outputs": []
    },
    {
      "cell_type": "code",
      "source": [
        "zomato.head()"
      ],
      "metadata": {
        "colab": {
          "base_uri": "https://localhost:8080/",
          "height": 386
        },
        "id": "2ippa2PtJsLz",
        "outputId": "42e468af-19a6-4722-b2a0-2d6059dc89d3"
      },
      "execution_count": null,
      "outputs": [
        {
          "output_type": "execute_result",
          "data": {
            "text/plain": [
              "                  Open        High         Low       Close     Volume  \\\n",
              "Date                                                                    \n",
              "2021-07-23  116.000000  138.899994  115.000000  126.000000  694895290   \n",
              "2021-07-26  126.349998  143.750000  125.300003  140.649994  249723854   \n",
              "2021-07-27  141.699997  147.800003  127.750000  132.899994  240341900   \n",
              "2021-07-28  131.000000  135.000000  123.550003  131.199997  159793731   \n",
              "2021-07-29  134.949997  144.000000  132.199997  141.550003  117973089   \n",
              "\n",
              "            Dividends  Stock Splits  \n",
              "Date                                 \n",
              "2021-07-23          0             0  \n",
              "2021-07-26          0             0  \n",
              "2021-07-27          0             0  \n",
              "2021-07-28          0             0  \n",
              "2021-07-29          0             0  "
            ],
            "text/html": [
              "\n",
              "  <div id=\"df-0349b44a-357e-4e81-b49c-89733d66b88f\">\n",
              "    <div class=\"colab-df-container\">\n",
              "      <div>\n",
              "<style scoped>\n",
              "    .dataframe tbody tr th:only-of-type {\n",
              "        vertical-align: middle;\n",
              "    }\n",
              "\n",
              "    .dataframe tbody tr th {\n",
              "        vertical-align: top;\n",
              "    }\n",
              "\n",
              "    .dataframe thead th {\n",
              "        text-align: right;\n",
              "    }\n",
              "</style>\n",
              "<table border=\"1\" class=\"dataframe\">\n",
              "  <thead>\n",
              "    <tr style=\"text-align: right;\">\n",
              "      <th></th>\n",
              "      <th>Open</th>\n",
              "      <th>High</th>\n",
              "      <th>Low</th>\n",
              "      <th>Close</th>\n",
              "      <th>Volume</th>\n",
              "      <th>Dividends</th>\n",
              "      <th>Stock Splits</th>\n",
              "    </tr>\n",
              "    <tr>\n",
              "      <th>Date</th>\n",
              "      <th></th>\n",
              "      <th></th>\n",
              "      <th></th>\n",
              "      <th></th>\n",
              "      <th></th>\n",
              "      <th></th>\n",
              "      <th></th>\n",
              "    </tr>\n",
              "  </thead>\n",
              "  <tbody>\n",
              "    <tr>\n",
              "      <th>2021-07-23</th>\n",
              "      <td>116.000000</td>\n",
              "      <td>138.899994</td>\n",
              "      <td>115.000000</td>\n",
              "      <td>126.000000</td>\n",
              "      <td>694895290</td>\n",
              "      <td>0</td>\n",
              "      <td>0</td>\n",
              "    </tr>\n",
              "    <tr>\n",
              "      <th>2021-07-26</th>\n",
              "      <td>126.349998</td>\n",
              "      <td>143.750000</td>\n",
              "      <td>125.300003</td>\n",
              "      <td>140.649994</td>\n",
              "      <td>249723854</td>\n",
              "      <td>0</td>\n",
              "      <td>0</td>\n",
              "    </tr>\n",
              "    <tr>\n",
              "      <th>2021-07-27</th>\n",
              "      <td>141.699997</td>\n",
              "      <td>147.800003</td>\n",
              "      <td>127.750000</td>\n",
              "      <td>132.899994</td>\n",
              "      <td>240341900</td>\n",
              "      <td>0</td>\n",
              "      <td>0</td>\n",
              "    </tr>\n",
              "    <tr>\n",
              "      <th>2021-07-28</th>\n",
              "      <td>131.000000</td>\n",
              "      <td>135.000000</td>\n",
              "      <td>123.550003</td>\n",
              "      <td>131.199997</td>\n",
              "      <td>159793731</td>\n",
              "      <td>0</td>\n",
              "      <td>0</td>\n",
              "    </tr>\n",
              "    <tr>\n",
              "      <th>2021-07-29</th>\n",
              "      <td>134.949997</td>\n",
              "      <td>144.000000</td>\n",
              "      <td>132.199997</td>\n",
              "      <td>141.550003</td>\n",
              "      <td>117973089</td>\n",
              "      <td>0</td>\n",
              "      <td>0</td>\n",
              "    </tr>\n",
              "  </tbody>\n",
              "</table>\n",
              "</div>\n",
              "      <button class=\"colab-df-convert\" onclick=\"convertToInteractive('df-0349b44a-357e-4e81-b49c-89733d66b88f')\"\n",
              "              title=\"Convert this dataframe to an interactive table.\"\n",
              "              style=\"display:none;\">\n",
              "        \n",
              "  <svg xmlns=\"http://www.w3.org/2000/svg\" height=\"24px\"viewBox=\"0 0 24 24\"\n",
              "       width=\"24px\">\n",
              "    <path d=\"M0 0h24v24H0V0z\" fill=\"none\"/>\n",
              "    <path d=\"M18.56 5.44l.94 2.06.94-2.06 2.06-.94-2.06-.94-.94-2.06-.94 2.06-2.06.94zm-11 1L8.5 8.5l.94-2.06 2.06-.94-2.06-.94L8.5 2.5l-.94 2.06-2.06.94zm10 10l.94 2.06.94-2.06 2.06-.94-2.06-.94-.94-2.06-.94 2.06-2.06.94z\"/><path d=\"M17.41 7.96l-1.37-1.37c-.4-.4-.92-.59-1.43-.59-.52 0-1.04.2-1.43.59L10.3 9.45l-7.72 7.72c-.78.78-.78 2.05 0 2.83L4 21.41c.39.39.9.59 1.41.59.51 0 1.02-.2 1.41-.59l7.78-7.78 2.81-2.81c.8-.78.8-2.07 0-2.86zM5.41 20L4 18.59l7.72-7.72 1.47 1.35L5.41 20z\"/>\n",
              "  </svg>\n",
              "      </button>\n",
              "      \n",
              "  <style>\n",
              "    .colab-df-container {\n",
              "      display:flex;\n",
              "      flex-wrap:wrap;\n",
              "      gap: 12px;\n",
              "    }\n",
              "\n",
              "    .colab-df-convert {\n",
              "      background-color: #E8F0FE;\n",
              "      border: none;\n",
              "      border-radius: 50%;\n",
              "      cursor: pointer;\n",
              "      display: none;\n",
              "      fill: #1967D2;\n",
              "      height: 32px;\n",
              "      padding: 0 0 0 0;\n",
              "      width: 32px;\n",
              "    }\n",
              "\n",
              "    .colab-df-convert:hover {\n",
              "      background-color: #E2EBFA;\n",
              "      box-shadow: 0px 1px 2px rgba(60, 64, 67, 0.3), 0px 1px 3px 1px rgba(60, 64, 67, 0.15);\n",
              "      fill: #174EA6;\n",
              "    }\n",
              "\n",
              "    [theme=dark] .colab-df-convert {\n",
              "      background-color: #3B4455;\n",
              "      fill: #D2E3FC;\n",
              "    }\n",
              "\n",
              "    [theme=dark] .colab-df-convert:hover {\n",
              "      background-color: #434B5C;\n",
              "      box-shadow: 0px 1px 3px 1px rgba(0, 0, 0, 0.15);\n",
              "      filter: drop-shadow(0px 1px 2px rgba(0, 0, 0, 0.3));\n",
              "      fill: #FFFFFF;\n",
              "    }\n",
              "  </style>\n",
              "\n",
              "      <script>\n",
              "        const buttonEl =\n",
              "          document.querySelector('#df-0349b44a-357e-4e81-b49c-89733d66b88f button.colab-df-convert');\n",
              "        buttonEl.style.display =\n",
              "          google.colab.kernel.accessAllowed ? 'block' : 'none';\n",
              "\n",
              "        async function convertToInteractive(key) {\n",
              "          const element = document.querySelector('#df-0349b44a-357e-4e81-b49c-89733d66b88f');\n",
              "          const dataTable =\n",
              "            await google.colab.kernel.invokeFunction('convertToInteractive',\n",
              "                                                     [key], {});\n",
              "          if (!dataTable) return;\n",
              "\n",
              "          const docLinkHtml = 'Like what you see? Visit the ' +\n",
              "            '<a target=\"_blank\" href=https://colab.research.google.com/notebooks/data_table.ipynb>data table notebook</a>'\n",
              "            + ' to learn more about interactive tables.';\n",
              "          element.innerHTML = '';\n",
              "          dataTable['output_type'] = 'display_data';\n",
              "          await google.colab.output.renderOutput(dataTable, element);\n",
              "          const docLink = document.createElement('div');\n",
              "          docLink.innerHTML = docLinkHtml;\n",
              "          element.appendChild(docLink);\n",
              "        }\n",
              "      </script>\n",
              "    </div>\n",
              "  </div>\n",
              "  "
            ]
          },
          "metadata": {},
          "execution_count": 8
        }
      ]
    },
    {
      "cell_type": "code",
      "source": [
        "zomato.tail()"
      ],
      "metadata": {
        "colab": {
          "base_uri": "https://localhost:8080/",
          "height": 386
        },
        "id": "WyKQM7ecLkrk",
        "outputId": "71f929b2-8391-4738-a614-56b96dd5e809"
      },
      "execution_count": null,
      "outputs": [
        {
          "output_type": "execute_result",
          "data": {
            "text/plain": [
              "                 Open       High        Low      Close    Volume  Dividends  \\\n",
              "Date                                                                          \n",
              "2023-02-28  53.700001  54.400002  53.000000  53.500000  45414869          0   \n",
              "2023-03-01  53.500000  55.349998  53.349998  54.950001  42854827          0   \n",
              "2023-03-02  54.750000  55.200001  54.349998  54.549999  36256148          0   \n",
              "2023-03-03  54.900002  55.400002  53.200001  53.650002  36943821          0   \n",
              "2023-03-06  54.000000  54.950001  53.700001  53.950001  33492583          0   \n",
              "\n",
              "            Stock Splits  \n",
              "Date                      \n",
              "2023-02-28             0  \n",
              "2023-03-01             0  \n",
              "2023-03-02             0  \n",
              "2023-03-03             0  \n",
              "2023-03-06             0  "
            ],
            "text/html": [
              "\n",
              "  <div id=\"df-04cc857d-c441-4aa3-9de6-8672341306d4\">\n",
              "    <div class=\"colab-df-container\">\n",
              "      <div>\n",
              "<style scoped>\n",
              "    .dataframe tbody tr th:only-of-type {\n",
              "        vertical-align: middle;\n",
              "    }\n",
              "\n",
              "    .dataframe tbody tr th {\n",
              "        vertical-align: top;\n",
              "    }\n",
              "\n",
              "    .dataframe thead th {\n",
              "        text-align: right;\n",
              "    }\n",
              "</style>\n",
              "<table border=\"1\" class=\"dataframe\">\n",
              "  <thead>\n",
              "    <tr style=\"text-align: right;\">\n",
              "      <th></th>\n",
              "      <th>Open</th>\n",
              "      <th>High</th>\n",
              "      <th>Low</th>\n",
              "      <th>Close</th>\n",
              "      <th>Volume</th>\n",
              "      <th>Dividends</th>\n",
              "      <th>Stock Splits</th>\n",
              "    </tr>\n",
              "    <tr>\n",
              "      <th>Date</th>\n",
              "      <th></th>\n",
              "      <th></th>\n",
              "      <th></th>\n",
              "      <th></th>\n",
              "      <th></th>\n",
              "      <th></th>\n",
              "      <th></th>\n",
              "    </tr>\n",
              "  </thead>\n",
              "  <tbody>\n",
              "    <tr>\n",
              "      <th>2023-02-28</th>\n",
              "      <td>53.700001</td>\n",
              "      <td>54.400002</td>\n",
              "      <td>53.000000</td>\n",
              "      <td>53.500000</td>\n",
              "      <td>45414869</td>\n",
              "      <td>0</td>\n",
              "      <td>0</td>\n",
              "    </tr>\n",
              "    <tr>\n",
              "      <th>2023-03-01</th>\n",
              "      <td>53.500000</td>\n",
              "      <td>55.349998</td>\n",
              "      <td>53.349998</td>\n",
              "      <td>54.950001</td>\n",
              "      <td>42854827</td>\n",
              "      <td>0</td>\n",
              "      <td>0</td>\n",
              "    </tr>\n",
              "    <tr>\n",
              "      <th>2023-03-02</th>\n",
              "      <td>54.750000</td>\n",
              "      <td>55.200001</td>\n",
              "      <td>54.349998</td>\n",
              "      <td>54.549999</td>\n",
              "      <td>36256148</td>\n",
              "      <td>0</td>\n",
              "      <td>0</td>\n",
              "    </tr>\n",
              "    <tr>\n",
              "      <th>2023-03-03</th>\n",
              "      <td>54.900002</td>\n",
              "      <td>55.400002</td>\n",
              "      <td>53.200001</td>\n",
              "      <td>53.650002</td>\n",
              "      <td>36943821</td>\n",
              "      <td>0</td>\n",
              "      <td>0</td>\n",
              "    </tr>\n",
              "    <tr>\n",
              "      <th>2023-03-06</th>\n",
              "      <td>54.000000</td>\n",
              "      <td>54.950001</td>\n",
              "      <td>53.700001</td>\n",
              "      <td>53.950001</td>\n",
              "      <td>33492583</td>\n",
              "      <td>0</td>\n",
              "      <td>0</td>\n",
              "    </tr>\n",
              "  </tbody>\n",
              "</table>\n",
              "</div>\n",
              "      <button class=\"colab-df-convert\" onclick=\"convertToInteractive('df-04cc857d-c441-4aa3-9de6-8672341306d4')\"\n",
              "              title=\"Convert this dataframe to an interactive table.\"\n",
              "              style=\"display:none;\">\n",
              "        \n",
              "  <svg xmlns=\"http://www.w3.org/2000/svg\" height=\"24px\"viewBox=\"0 0 24 24\"\n",
              "       width=\"24px\">\n",
              "    <path d=\"M0 0h24v24H0V0z\" fill=\"none\"/>\n",
              "    <path d=\"M18.56 5.44l.94 2.06.94-2.06 2.06-.94-2.06-.94-.94-2.06-.94 2.06-2.06.94zm-11 1L8.5 8.5l.94-2.06 2.06-.94-2.06-.94L8.5 2.5l-.94 2.06-2.06.94zm10 10l.94 2.06.94-2.06 2.06-.94-2.06-.94-.94-2.06-.94 2.06-2.06.94z\"/><path d=\"M17.41 7.96l-1.37-1.37c-.4-.4-.92-.59-1.43-.59-.52 0-1.04.2-1.43.59L10.3 9.45l-7.72 7.72c-.78.78-.78 2.05 0 2.83L4 21.41c.39.39.9.59 1.41.59.51 0 1.02-.2 1.41-.59l7.78-7.78 2.81-2.81c.8-.78.8-2.07 0-2.86zM5.41 20L4 18.59l7.72-7.72 1.47 1.35L5.41 20z\"/>\n",
              "  </svg>\n",
              "      </button>\n",
              "      \n",
              "  <style>\n",
              "    .colab-df-container {\n",
              "      display:flex;\n",
              "      flex-wrap:wrap;\n",
              "      gap: 12px;\n",
              "    }\n",
              "\n",
              "    .colab-df-convert {\n",
              "      background-color: #E8F0FE;\n",
              "      border: none;\n",
              "      border-radius: 50%;\n",
              "      cursor: pointer;\n",
              "      display: none;\n",
              "      fill: #1967D2;\n",
              "      height: 32px;\n",
              "      padding: 0 0 0 0;\n",
              "      width: 32px;\n",
              "    }\n",
              "\n",
              "    .colab-df-convert:hover {\n",
              "      background-color: #E2EBFA;\n",
              "      box-shadow: 0px 1px 2px rgba(60, 64, 67, 0.3), 0px 1px 3px 1px rgba(60, 64, 67, 0.15);\n",
              "      fill: #174EA6;\n",
              "    }\n",
              "\n",
              "    [theme=dark] .colab-df-convert {\n",
              "      background-color: #3B4455;\n",
              "      fill: #D2E3FC;\n",
              "    }\n",
              "\n",
              "    [theme=dark] .colab-df-convert:hover {\n",
              "      background-color: #434B5C;\n",
              "      box-shadow: 0px 1px 3px 1px rgba(0, 0, 0, 0.15);\n",
              "      filter: drop-shadow(0px 1px 2px rgba(0, 0, 0, 0.3));\n",
              "      fill: #FFFFFF;\n",
              "    }\n",
              "  </style>\n",
              "\n",
              "      <script>\n",
              "        const buttonEl =\n",
              "          document.querySelector('#df-04cc857d-c441-4aa3-9de6-8672341306d4 button.colab-df-convert');\n",
              "        buttonEl.style.display =\n",
              "          google.colab.kernel.accessAllowed ? 'block' : 'none';\n",
              "\n",
              "        async function convertToInteractive(key) {\n",
              "          const element = document.querySelector('#df-04cc857d-c441-4aa3-9de6-8672341306d4');\n",
              "          const dataTable =\n",
              "            await google.colab.kernel.invokeFunction('convertToInteractive',\n",
              "                                                     [key], {});\n",
              "          if (!dataTable) return;\n",
              "\n",
              "          const docLinkHtml = 'Like what you see? Visit the ' +\n",
              "            '<a target=\"_blank\" href=https://colab.research.google.com/notebooks/data_table.ipynb>data table notebook</a>'\n",
              "            + ' to learn more about interactive tables.';\n",
              "          element.innerHTML = '';\n",
              "          dataTable['output_type'] = 'display_data';\n",
              "          await google.colab.output.renderOutput(dataTable, element);\n",
              "          const docLink = document.createElement('div');\n",
              "          docLink.innerHTML = docLinkHtml;\n",
              "          element.appendChild(docLink);\n",
              "        }\n",
              "      </script>\n",
              "    </div>\n",
              "  </div>\n",
              "  "
            ]
          },
          "metadata": {},
          "execution_count": 9
        }
      ]
    },
    {
      "cell_type": "code",
      "source": [
        "zomato.reset_index(inplace=True) # Inserts index"
      ],
      "metadata": {
        "id": "pcv1kLQHLnNX"
      },
      "execution_count": null,
      "outputs": []
    },
    {
      "cell_type": "code",
      "source": [
        "zomato.plot(x=\"Date\", y=\"Open\")"
      ],
      "metadata": {
        "colab": {
          "base_uri": "https://localhost:8080/",
          "height": 294
        },
        "id": "mcRxNT0JL6mh",
        "outputId": "2631f7f1-8c39-4b04-a96d-7b1f4b240f46"
      },
      "execution_count": null,
      "outputs": [
        {
          "output_type": "execute_result",
          "data": {
            "text/plain": [
              "<AxesSubplot:xlabel='Date'>"
            ]
          },
          "metadata": {},
          "execution_count": 11
        },
        {
          "output_type": "display_data",
          "data": {
            "text/plain": [
              "<Figure size 432x288 with 1 Axes>"
            ],
            "image/png": "[encoded data removed]"
          },
          "metadata": {
            "needs_background": "light"
          }
        }
      ]
    },
    {
      "cell_type": "code",
      "source": [
        "zomato.plot(x=\"Date\", y=\"Close\")"
      ],
      "metadata": {
        "colab": {
          "base_uri": "https://localhost:8080/",
          "height": 294
        },
        "id": "NTf8VgxQMLO9",
        "outputId": "b11283c2-5fc0-4008-9f0c-74fd67ba60cc"
      },
      "execution_count": null,
      "outputs": [
        {
          "output_type": "execute_result",
          "data": {
            "text/plain": [
              "<AxesSubplot:xlabel='Date'>"
            ]
          },
          "metadata": {},
          "execution_count": 12
        },
        {
          "output_type": "display_data",
          "data": {
            "text/plain": [
              "<Figure size 432x288 with 1 Axes>"
            ],
            "image/png": "[encoded data removed]"
          },
          "metadata": {
            "needs_background": "light"
          }
        }
      ]
    },
    {
      "cell_type": "code",
      "source": [
        "zomato.plot(x=\"Date\", y=\"Volume\")"
      ],
      "metadata": {
        "colab": {
          "base_uri": "https://localhost:8080/",
          "height": 305
        },
        "id": "JlLCCpiWMV-V",
        "outputId": "32b1dc05-df27-4bc6-eab3-b7f7c7bafdc2"
      },
      "execution_count": null,
      "outputs": [
        {
          "output_type": "execute_result",
          "data": {
            "text/plain": [
              "<AxesSubplot:xlabel='Date'>"
            ]
          },
          "metadata": {},
          "execution_count": 13
        },
        {
          "output_type": "display_data",
          "data": {
            "text/plain": [
              "<Figure size 432x288 with 1 Axes>"
            ],
            "image/png": "[encoded data removed]"
          },
          "metadata": {
            "needs_background": "light"
          }
        }
      ]
    },
    {
      "cell_type": "code",
      "source": [
        "close = zomato.reset_index()['Close']"
      ],
      "metadata": {
        "id": "naEWvA3hMe6c"
      },
      "execution_count": null,
      "outputs": []
    },
    {
      "cell_type": "code",
      "source": [
        "close"
      ],
      "metadata": {
        "colab": {
          "base_uri": "https://localhost:8080/"
        },
        "id": "KAeQ9RVmNbRv",
        "outputId": "a161df61-c4fc-41c4-b262-4092e9bcce35"
      },
      "execution_count": null,
      "outputs": [
        {
          "output_type": "execute_result",
          "data": {
            "text/plain": [
              "0      126.000000\n",
              "1      140.649994\n",
              "2      132.899994\n",
              "3      131.199997\n",
              "4      141.550003\n",
              "          ...    \n",
              "399     53.500000\n",
              "400     54.950001\n",
              "401     54.549999\n",
              "402     53.650002\n",
              "403     53.950001\n",
              "Name: Close, Length: 404, dtype: float64"
            ]
          },
          "metadata": {},
          "execution_count": 15
        }
      ]
    },
    {
      "cell_type": "code",
      "source": [
        "# Since we are using LSTM and since LSTM is sensitive to scale of data, we convert all the data such that it lies between 0 and 1\n",
        "from sklearn.preprocessing import MinMaxScaler\n",
        "scalar = MinMaxScaler(feature_range = (0,1))\n",
        "close =  scalar.fit_transform(np.array(close).reshape(-1,1))"
      ],
      "metadata": {
        "id": "qRVAyGorNlxw"
      },
      "execution_count": null,
      "outputs": []
    },
    {
      "cell_type": "code",
      "source": [
        "close"
      ],
      "metadata": {
        "colab": {
          "base_uri": "https://localhost:8080/"
        },
        "id": "5vqhUtiNOSQ7",
        "outputId": "b2cd6a68-a887-4b5f-c8de-56b05370866d"
      },
      "execution_count": null,
      "outputs": [
        {
          "output_type": "execute_result",
          "data": {
            "text/plain": [
              "array([[0.71091443],\n",
              "       [0.83438678],\n",
              "       [0.76906862],\n",
              "       [0.75474079],\n",
              "       [0.84197219],\n",
              "       [0.77412556],\n",
              "       [0.82638006],\n",
              "       [0.82385159],\n",
              "       [0.81542344],\n",
              "       [0.78634635],\n",
              "       [0.75600509],\n",
              "       [0.74968397],\n",
              "       [0.70417189],\n",
              "       [0.79224603],\n",
              "       [0.79056042],\n",
              "       [0.80657399],\n",
              "       [0.78634635],\n",
              "       [0.76569741],\n",
              "       [0.78634635],\n",
              "       [0.82300885],\n",
              "       [0.72144962],\n",
              "       [0.70248628],\n",
              "       [0.69616517],\n",
              "       [0.7096502 ],\n",
              "       [0.69995781],\n",
              "       [0.77454699],\n",
              "       [0.78297514],\n",
              "       [0.76654027],\n",
              "       [0.80868102],\n",
              "       [0.91108299],\n",
              "       [0.86304256],\n",
              "       [0.82932996],\n",
              "       [0.83944372],\n",
              "       [0.84239362],\n",
              "       [0.85545715],\n",
              "       [0.863464  ],\n",
              "       [0.85124308],\n",
              "       [0.84618626],\n",
              "       [0.81120936],\n",
              "       [0.7808681 ],\n",
              "       [0.77370412],\n",
              "       [0.7623262 ],\n",
              "       [0.80615255],\n",
              "       [0.80067418],\n",
              "       [0.86009266],\n",
              "       [0.82048038],\n",
              "       [0.81626631],\n",
              "       [0.80025287],\n",
              "       [0.81205223],\n",
              "       [0.82132325],\n",
              "       [0.8116308 ],\n",
              "       [0.78634635],\n",
              "       [0.80446695],\n",
              "       [0.7964601 ],\n",
              "       [0.80235991],\n",
              "       [0.80025287],\n",
              "       [0.79056042],\n",
              "       [0.78676778],\n",
              "       [0.86304256],\n",
              "       [0.81668774],\n",
              "       [0.81120936],\n",
              "       [0.8133164 ],\n",
              "       [0.80994519],\n",
              "       [0.76738301],\n",
              "       [0.79056042],\n",
              "       [0.78508218],\n",
              "       [0.79182472],\n",
              "       [0.75769069],\n",
              "       [0.76696158],\n",
              "       [0.76527597],\n",
              "       [0.73072064],\n",
              "       [0.75600509],\n",
              "       [0.75431935],\n",
              "       [0.80910233],\n",
              "       [0.79561736],\n",
              "       [0.83649381],\n",
              "       [0.93847448],\n",
              "       [1.        ],\n",
              "       [0.97724402],\n",
              "       [0.96839444],\n",
              "       [0.95280231],\n",
              "       [0.91108299],\n",
              "       [0.90223341],\n",
              "       [0.95954485],\n",
              "       [0.99536449],\n",
              "       [0.8975979 ],\n",
              "       [0.90560475],\n",
              "       [0.93468184],\n",
              "       [0.92498939],\n",
              "       [0.91866828],\n",
              "       [0.87020641],\n",
              "       [0.81668774],\n",
              "       [0.82722293],\n",
              "       [0.89296252],\n",
              "       [0.88158447],\n",
              "       [0.83354404],\n",
              "       [0.85124308],\n",
              "       [0.83438678],\n",
              "       [0.83396547],\n",
              "       [0.81542344],\n",
              "       [0.78971769],\n",
              "       [0.71554994],\n",
              "       [0.75811212],\n",
              "       [0.81753048],\n",
              "       [0.76991148],\n",
              "       [0.75684782],\n",
              "       [0.76780444],\n",
              "       [0.76864731],\n",
              "       [0.80446695],\n",
              "       [0.7779182 ],\n",
              "       [0.80699529],\n",
              "       [0.84028658],\n",
              "       [0.81500214],\n",
              "       [0.7779182 ],\n",
              "       [0.74462703],\n",
              "       [0.73830592],\n",
              "       [0.74631264],\n",
              "       [0.75558365],\n",
              "       [0.76359037],\n",
              "       [0.77075435],\n",
              "       [0.77496842],\n",
              "       [0.77833963],\n",
              "       [0.77033291],\n",
              "       [0.73788449],\n",
              "       [0.70417189],\n",
              "       [0.60682679],\n",
              "       [0.41887902],\n",
              "       [0.49557518],\n",
              "       [0.41171511],\n",
              "       [0.40370839],\n",
              "       [0.41087231],\n",
              "       [0.44584914],\n",
              "       [0.48251158],\n",
              "       [0.46734089],\n",
              "       [0.44289924],\n",
              "       [0.43742099],\n",
              "       [0.43742099],\n",
              "       [0.44289924],\n",
              "       [0.44500628],\n",
              "       [0.39654441],\n",
              "       [0.34386848],\n",
              "       [0.34597552],\n",
              "       [0.36493885],\n",
              "       [0.40033712],\n",
              "       [0.37294563],\n",
              "       [0.33628319],\n",
              "       [0.32069107],\n",
              "       [0.35819637],\n",
              "       [0.31057731],\n",
              "       [0.31310578],\n",
              "       [0.3227981 ],\n",
              "       [0.3219553 ],\n",
              "       [0.34176144],\n",
              "       [0.32490514],\n",
              "       [0.31479139],\n",
              "       [0.30762747],\n",
              "       [0.32616938],\n",
              "       [0.34176144],\n",
              "       [0.32237673],\n",
              "       [0.31731986],\n",
              "       [0.29414244],\n",
              "       [0.2890855 ],\n",
              "       [0.33038345],\n",
              "       [0.32659081],\n",
              "       [0.33291192],\n",
              "       [0.32954065],\n",
              "       [0.32616938],\n",
              "       [0.32827641],\n",
              "       [0.3202697 ],\n",
              "       [0.30804884],\n",
              "       [0.36578172],\n",
              "       [0.34260431],\n",
              "       [0.35946061],\n",
              "       [0.37589547],\n",
              "       [0.35608933],\n",
              "       [0.36156764],\n",
              "       [0.34428991],\n",
              "       [0.35187526],\n",
              "       [0.36072478],\n",
              "       [0.33586176],\n",
              "       [0.35608933],\n",
              "       [0.34766118],\n",
              "       [0.32701218],\n",
              "       [0.32574801],\n",
              "       [0.32996208],\n",
              "       [0.33333329],\n",
              "       [0.31268435],\n",
              "       [0.31984826],\n",
              "       [0.2882427 ],\n",
              "       [0.2713864 ],\n",
              "       [0.2536873 ],\n",
              "       [0.23472396],\n",
              "       [0.19216178],\n",
              "       [0.16434892],\n",
              "       [0.15887061],\n",
              "       [0.12726505],\n",
              "       [0.09102401],\n",
              "       [0.10577327],\n",
              "       [0.08680994],\n",
              "       [0.12810785],\n",
              "       [0.12431521],\n",
              "       [0.12220817],\n",
              "       [0.14412135],\n",
              "       [0.11546563],\n",
              "       [0.13822164],\n",
              "       [0.12979349],\n",
              "       [0.19637585],\n",
              "       [0.17404128],\n",
              "       [0.15844921],\n",
              "       [0.17193424],\n",
              "       [0.24778762],\n",
              "       [0.27812895],\n",
              "       [0.27855032],\n",
              "       [0.2553729 ],\n",
              "       [0.25705857],\n",
              "       [0.23809524],\n",
              "       [0.20016856],\n",
              "       [0.21491782],\n",
              "       [0.22798142],\n",
              "       [0.23050989],\n",
              "       [0.21786766],\n",
              "       [0.23893804],\n",
              "       [0.24062364],\n",
              "       [0.21533919],\n",
              "       [0.21407502],\n",
              "       [0.19679729],\n",
              "       [0.20564687],\n",
              "       [0.21871046],\n",
              "       [0.2351454 ],\n",
              "       [0.24315211],\n",
              "       [0.2039612 ],\n",
              "       [0.15718498],\n",
              "       [0.13190053],\n",
              "       [0.1028234 ],\n",
              "       [0.12220817],\n",
              "       [0.10661608],\n",
              "       [0.11630846],\n",
              "       [0.10703748],\n",
              "       [0.10788031],\n",
              "       [0.11083015],\n",
              "       [0.12178674],\n",
              "       [0.14622839],\n",
              "       [0.14075008],\n",
              "       [0.1179941 ],\n",
              "       [0.10324484],\n",
              "       [0.10071637],\n",
              "       [0.10366624],\n",
              "       [0.09903076],\n",
              "       [0.09987356],\n",
              "       [0.1011378 ],\n",
              "       [0.05014747],\n",
              "       [0.        ],\n",
              "       [0.01938474],\n",
              "       [0.034134  ],\n",
              "       [0.04340495],\n",
              "       [0.03919088],\n",
              "       [0.11715126],\n",
              "       [0.11630846],\n",
              "       [0.136536  ],\n",
              "       [0.10914452],\n",
              "       [0.11630846],\n",
              "       [0.12052254],\n",
              "       [0.13695744],\n",
              "       [0.1694058 ],\n",
              "       [0.19047618],\n",
              "       [0.19890433],\n",
              "       [0.21449639],\n",
              "       [0.16687736],\n",
              "       [0.17151284],\n",
              "       [0.19216178],\n",
              "       [0.17319847],\n",
              "       [0.17235564],\n",
              "       [0.1702486 ],\n",
              "       [0.14791402],\n",
              "       [0.13737884],\n",
              "       [0.17530551],\n",
              "       [0.1525495 ],\n",
              "       [0.1517067 ],\n",
              "       [0.1521281 ],\n",
              "       [0.15044246],\n",
              "       [0.16603453],\n",
              "       [0.17825535],\n",
              "       [0.17614831],\n",
              "       [0.20058993],\n",
              "       [0.18246943],\n",
              "       [0.19342601],\n",
              "       [0.18162662],\n",
              "       [0.18794774],\n",
              "       [0.17867675],\n",
              "       [0.18373366],\n",
              "       [0.18246943],\n",
              "       [0.16139905],\n",
              "       [0.1361146 ],\n",
              "       [0.14496415],\n",
              "       [0.13822164],\n",
              "       [0.16477032],\n",
              "       [0.17446268],\n",
              "       [0.17067004],\n",
              "       [0.18879057],\n",
              "       [0.2014328 ],\n",
              "       [0.2351454 ],\n",
              "       [0.22798142],\n",
              "       [0.2014328 ],\n",
              "       [0.1862621 ],\n",
              "       [0.16519173],\n",
              "       [0.17067004],\n",
              "       [0.17699115],\n",
              "       [0.17994099],\n",
              "       [0.17193424],\n",
              "       [0.16561313],\n",
              "       [0.1698272 ],\n",
              "       [0.17446268],\n",
              "       [0.19342601],\n",
              "       [0.19764009],\n",
              "       [0.17656971],\n",
              "       [0.18078379],\n",
              "       [0.18415506],\n",
              "       [0.17994099],\n",
              "       [0.17319847],\n",
              "       [0.17994099],\n",
              "       [0.19764009],\n",
              "       [0.19932576],\n",
              "       [0.18794774],\n",
              "       [0.26253688],\n",
              "       [0.23556676],\n",
              "       [0.2385166 ],\n",
              "       [0.22798142],\n",
              "       [0.21955327],\n",
              "       [0.21491782],\n",
              "       [0.19089761],\n",
              "       [0.18794774],\n",
              "       [0.1694058 ],\n",
              "       [0.18162662],\n",
              "       [0.18836914],\n",
              "       [0.19174041],\n",
              "       [0.18457646],\n",
              "       [0.19890433],\n",
              "       [0.21070375],\n",
              "       [0.22671725],\n",
              "       [0.20058993],\n",
              "       [0.19511168],\n",
              "       [0.19216178],\n",
              "       [0.1866835 ],\n",
              "       [0.18963337],\n",
              "       [0.19174041],\n",
              "       [0.19342601],\n",
              "       [0.19679729],\n",
              "       [0.18963337],\n",
              "       [0.17277707],\n",
              "       [0.17277707],\n",
              "       [0.17867675],\n",
              "       [0.16603453],\n",
              "       [0.14580699],\n",
              "       [0.1011378 ],\n",
              "       [0.13906447],\n",
              "       [0.14580699],\n",
              "       [0.15592077],\n",
              "       [0.16182045],\n",
              "       [0.14875683],\n",
              "       [0.15718498],\n",
              "       [0.14580699],\n",
              "       [0.12389378],\n",
              "       [0.12262957],\n",
              "       [0.11462283],\n",
              "       [0.12094394],\n",
              "       [0.10998735],\n",
              "       [0.10703748],\n",
              "       [0.1019806 ],\n",
              "       [0.09776653],\n",
              "       [0.09313105],\n",
              "       [0.07163927],\n",
              "       [0.07880319],\n",
              "       [0.07964599],\n",
              "       [0.08259586],\n",
              "       [0.07880319],\n",
              "       [0.08807414],\n",
              "       [0.0514117 ],\n",
              "       [0.04466919],\n",
              "       [0.04846186],\n",
              "       [0.068268  ],\n",
              "       [0.05478297],\n",
              "       [0.04930466],\n",
              "       [0.05983985],\n",
              "       [0.0514117 ],\n",
              "       [0.06489673],\n",
              "       [0.10661608],\n",
              "       [0.10745891],\n",
              "       [0.09818793],\n",
              "       [0.0855457 ],\n",
              "       [0.07332488],\n",
              "       [0.07248208],\n",
              "       [0.08217446],\n",
              "       [0.0855457 ],\n",
              "       [0.10914452],\n",
              "       [0.11546563],\n",
              "       [0.09523809],\n",
              "       [0.11209439],\n",
              "       [0.10788031],\n",
              "       [0.10071637],\n",
              "       [0.09987356],\n",
              "       [0.11209439],\n",
              "       [0.10872311],\n",
              "       [0.1011378 ],\n",
              "       [0.10366624]])"
            ]
          },
          "metadata": {},
          "execution_count": 17
        }
      ]
    },
    {
      "cell_type": "code",
      "source": [
        "train_size = int(len(close)*0.6)\n",
        "test_size = len(close) - train_size\n",
        "train_data , test_data = close[0:train_size,:], close[train_size:len(close),:1]"
      ],
      "metadata": {
        "id": "7IpBqrPmOgUN"
      },
      "execution_count": null,
      "outputs": []
    },
    {
      "cell_type": "code",
      "source": [
        "def create_dataset(dataset, time_step=1):\n",
        "  dataX , dataY = [],[]\n",
        "  for i in range(len(dataset)- time_step-1):\n",
        "    a = dataset[i:(i+time_step),0]\n",
        "    dataX.append(a)\n",
        "    dataY.append(dataset[i + time_step,0])\n",
        "  return np.array(dataX), np.array(dataY)"
      ],
      "metadata": {
        "id": "WxS9ElMSQByl"
      },
      "execution_count": null,
      "outputs": []
    },
    {
      "cell_type": "code",
      "source": [
        "time_step =100\n",
        "X_train , y_train = create_dataset(train_data,time_step)\n",
        "X_test , y_test = create_dataset(test_data,time_step)"
      ],
      "metadata": {
        "id": "4K80YqqKRheS"
      },
      "execution_count": null,
      "outputs": []
    },
    {
      "cell_type": "code",
      "source": [
        "print(X_train)"
      ],
      "metadata": {
        "colab": {
          "base_uri": "https://localhost:8080/"
        },
        "id": "VtZqxUzUR4M8",
        "outputId": "744ea167-6aaf-4902-8ceb-af6b5b9f59df"
      },
      "execution_count": null,
      "outputs": [
        {
          "output_type": "stream",
          "name": "stdout",
          "text": [
            "[[0.71091443 0.83438678 0.76906862 ... 0.83438678 0.83396547 0.81542344]\n",
            " [0.83438678 0.76906862 0.75474079 ... 0.83396547 0.81542344 0.78971769]\n",
            " [0.76906862 0.75474079 0.84197219 ... 0.81542344 0.78971769 0.71554994]\n",
            " ...\n",
            " [0.44500628 0.39654441 0.34386848 ... 0.10661608 0.11630846 0.10703748]\n",
            " [0.39654441 0.34386848 0.34597552 ... 0.11630846 0.10703748 0.10788031]\n",
            " [0.34386848 0.34597552 0.36493885 ... 0.10703748 0.10788031 0.11083015]]\n"
          ]
        }
      ]
    },
    {
      "cell_type": "code",
      "source": [
        "print(X_train.shape)"
      ],
      "metadata": {
        "colab": {
          "base_uri": "https://localhost:8080/"
        },
        "id": "q8T-skT5SIoN",
        "outputId": "8f993847-4716-4c96-caf7-985a337935bd"
      },
      "execution_count": null,
      "outputs": [
        {
          "output_type": "stream",
          "name": "stdout",
          "text": [
            "(141, 100)\n"
          ]
        }
      ]
    },
    {
      "cell_type": "code",
      "source": [
        "print(y_train.shape)"
      ],
      "metadata": {
        "colab": {
          "base_uri": "https://localhost:8080/"
        },
        "id": "y1gLbkpDTCmr",
        "outputId": "bd511d4a-fed5-4ed4-a849-45d3384c18eb"
      },
      "execution_count": null,
      "outputs": [
        {
          "output_type": "stream",
          "name": "stdout",
          "text": [
            "(141,)\n"
          ]
        }
      ]
    },
    {
      "cell_type": "code",
      "source": [
        "print(X_test.shape)"
      ],
      "metadata": {
        "colab": {
          "base_uri": "https://localhost:8080/"
        },
        "id": "HvdQN07Rl813",
        "outputId": "1e094d04-53c1-40d6-f872-f4bb2cc19b46"
      },
      "execution_count": null,
      "outputs": [
        {
          "output_type": "stream",
          "name": "stdout",
          "text": [
            "(61, 100)\n"
          ]
        }
      ]
    },
    {
      "cell_type": "code",
      "source": [
        "# Reshaping the data\n",
        "X_train = X_train.reshape(X_train.shape[0],X_train.shape[1],1)\n",
        "X_test = X_test.reshape(X_test.shape[0],X_test.shape[1],1)"
      ],
      "metadata": {
        "id": "JZsnKgA5TFG0"
      },
      "execution_count": null,
      "outputs": []
    },
    {
      "cell_type": "markdown",
      "source": [
        "Creating a stacked LSTM model"
      ],
      "metadata": {
        "id": "Fyx6JOlCTVG5"
      }
    },
    {
      "cell_type": "code",
      "source": [
        "from tensorflow.keras.models import Sequential\n",
        "from tensorflow.keras.layers import Dense\n",
        "from tensorflow.keras.layers import LSTM"
      ],
      "metadata": {
        "id": "Tr2vXW7UTt3r"
      },
      "execution_count": null,
      "outputs": []
    },
    {
      "cell_type": "code",
      "source": [
        "model = Sequential()\n",
        "model.add(LSTM(50,return_sequences=True,input_shape = (100,1)))\n",
        "model.add(LSTM(50,return_sequences=True))\n",
        "model.add(LSTM(50))\n",
        "model.add(Dense(1))"
      ],
      "metadata": {
        "id": "6xGEeOCIUH6N"
      },
      "execution_count": null,
      "outputs": []
    },
    {
      "cell_type": "code",
      "source": [
        "model.compile(loss = 'mean_squared_error', optimizer = 'adam')"
      ],
      "metadata": {
        "id": "CT-0cbGvUoiH"
      },
      "execution_count": null,
      "outputs": []
    },
    {
      "cell_type": "code",
      "source": [
        "model.summary()"
      ],
      "metadata": {
        "colab": {
          "base_uri": "https://localhost:8080/"
        },
        "id": "KMjGrdvZUwUw",
        "outputId": "aaad6450-a2df-44fd-b0d4-9082a8043540"
      },
      "execution_count": null,
      "outputs": [
        {
          "output_type": "stream",
          "name": "stdout",
          "text": [
            "Model: \"sequential\"\n",
            "_________________________________________________________________\n",
            " Layer (type)                Output Shape              Param #   \n",
            "=================================================================\n",
            " lstm (LSTM)                 (None, 100, 50)           10400     \n",
            "                                                                 \n",
            " lstm_1 (LSTM)               (None, 100, 50)           20200     \n",
            "                                                                 \n",
            " lstm_2 (LSTM)               (None, 50)                20200     \n",
            "                                                                 \n",
            " dense (Dense)               (None, 1)                 51        \n",
            "                                                                 \n",
            "=================================================================\n",
            "Total params: 50,851\n",
            "Trainable params: 50,851\n",
            "Non-trainable params: 0\n",
            "_________________________________________________________________\n"
          ]
        }
      ]
    },
    {
      "cell_type": "code",
      "source": [
        "model.fit(X_train,y_train, validation_data = (X_test,y_test),epochs= 10,batch_size=34, verbose=1)"
      ],
      "metadata": {
        "colab": {
          "base_uri": "https://localhost:8080/"
        },
        "id": "efZ6towxVY3y",
        "outputId": "60e0b41b-04d3-40fe-c281-985d855791fe"
      },
      "execution_count": null,
      "outputs": [
        {
          "output_type": "stream",
          "name": "stdout",
          "text": [
            "Epoch 1/10\n",
            "5/5 [==============================] - 12s 669ms/step - loss: 0.1499 - val_loss: 0.0015\n",
            "Epoch 2/10\n",
            "5/5 [==============================] - 1s 184ms/step - loss: 0.0217 - val_loss: 0.0269\n",
            "Epoch 3/10\n",
            "5/5 [==============================] - 1s 185ms/step - loss: 0.0174 - val_loss: 0.0040\n",
            "Epoch 4/10\n",
            "5/5 [==============================] - 1s 276ms/step - loss: 0.0183 - val_loss: 0.0062\n",
            "Epoch 5/10\n",
            "5/5 [==============================] - 1s 282ms/step - loss: 0.0100 - val_loss: 0.0138\n",
            "Epoch 6/10\n",
            "5/5 [==============================] - 1s 196ms/step - loss: 0.0147 - val_loss: 0.0067\n",
            "Epoch 7/10\n",
            "5/5 [==============================] - 1s 174ms/step - loss: 0.0101 - val_loss: 0.0015\n",
            "Epoch 8/10\n",
            "5/5 [==============================] - 1s 196ms/step - loss: 0.0103 - val_loss: 0.0033\n",
            "Epoch 9/10\n",
            "5/5 [==============================] - 1s 177ms/step - loss: 0.0079 - val_loss: 0.0027\n",
            "Epoch 10/10\n",
            "5/5 [==============================] - 1s 189ms/step - loss: 0.0067 - val_loss: 8.3445e-04\n"
          ]
        },
        {
          "output_type": "execute_result",
          "data": {
            "text/plain": [
              "<keras.callbacks.History at 0x7f00bad1b4f0>"
            ]
          },
          "metadata": {},
          "execution_count": 30
        }
      ]
    },
    {
      "cell_type": "markdown",
      "source": [
        "Doing predictions on the data"
      ],
      "metadata": {
        "id": "3mRbKJTTWwCh"
      }
    },
    {
      "cell_type": "code",
      "source": [
        "train_predict = model.predict(X_train)\n",
        "test_predict = model.predict(X_test)"
      ],
      "metadata": {
        "colab": {
          "base_uri": "https://localhost:8080/"
        },
        "id": "ybL3fvAVWLou",
        "outputId": "59c0c020-e278-405d-b340-a81c887b5a1b"
      },
      "execution_count": null,
      "outputs": [
        {
          "output_type": "stream",
          "name": "stdout",
          "text": [
            "5/5 [==============================] - 2s 40ms/step\n",
            "2/2 [==============================] - 0s 46ms/step\n"
          ]
        }
      ]
    },
    {
      "cell_type": "code",
      "source": [
        "#Transform to original form\n",
        "train_predict = scalar.inverse_transform(train_predict)\n",
        "test_predict = scalar.inverse_transform(test_predict)"
      ],
      "metadata": {
        "id": "rVI6_qWKXBGX"
      },
      "execution_count": null,
      "outputs": []
    },
    {
      "cell_type": "code",
      "source": [
        "# Root mean squared error for performance metrics\n",
        "from ast import Call\n",
        "Call\n",
        "import math\n",
        "from sklearn import metrics\n",
        "from sklearn.metrics import mean_squared_error\n",
        "math.sqrt(mean_squared_error(y_train,train_predict))"
      ],
      "metadata": {
        "colab": {
          "base_uri": "https://localhost:8080/"
        },
        "id": "oBZHVBQ1XYyn",
        "outputId": "77988cc7-49d6-40c8-eefb-2a02f4f0dd42"
      },
      "execution_count": null,
      "outputs": [
        {
          "output_type": "execute_result",
          "data": {
            "text/plain": [
              "84.6460789336741"
            ]
          },
          "metadata": {},
          "execution_count": 33
        }
      ]
    },
    {
      "cell_type": "code",
      "source": [
        "# Test data RMSE\n",
        "math.sqrt(mean_squared_error(y_test,test_predict))"
      ],
      "metadata": {
        "colab": {
          "base_uri": "https://localhost:8080/"
        },
        "id": "pft7lRq4YA_8",
        "outputId": "9795cdf2-6df6-4d45-fa58-23b49ff373ed"
      },
      "execution_count": null,
      "outputs": [
        {
          "output_type": "execute_result",
          "data": {
            "text/plain": [
              "56.68495540494708"
            ]
          },
          "metadata": {},
          "execution_count": 34
        }
      ]
    },
    {
      "cell_type": "code",
      "source": [
        "from tensorflow.python import train\n",
        "look_back = 100\n",
        "trainPredictPlot = np.empty_like(close)\n",
        "trainPredictPlot[:,:] = np.nan\n",
        "trainPredictPlot[look_back:len(train_predict)+look_back,:] = train_predict\n",
        "\n",
        "testPredictPlot = np.empty_like(close)\n",
        "testPredictPlot[:,:] = np.nan\n",
        "testPredictPlot[len(train_predict)+(look_back*2)+ 1 : len(close)-1,:] = test_predict\n",
        "plt.plot(scalar.inverse_transform(close))\n",
        "plt.plot(trainPredictPlot)\n",
        "plt.plot(testPredictPlot)\n",
        "plt.show()"
      ],
      "metadata": {
        "colab": {
          "base_uri": "https://localhost:8080/",
          "height": 265
        },
        "id": "upVbkU_jYwAN",
        "outputId": "2c256586-90b8-48f0-82e9-05bbfdf6e135"
      },
      "execution_count": null,
      "outputs": [
        {
          "output_type": "display_data",
          "data": {
            "text/plain": [
              "<Figure size 432x288 with 1 Axes>"
            ],
            "image/png": "[encoded data removed]"
          },
          "metadata": {
            "needs_background": "light"
          }
        }
      ]
    },
    {
      "cell_type": "markdown",
      "source": [
        "Predicting future 4 days"
      ],
      "metadata": {
        "id": "MA6ugjQNmsv_"
      }
    },
    {
      "cell_type": "code",
      "source": [
        "len(test_data)"
      ],
      "metadata": {
        "colab": {
          "base_uri": "https://localhost:8080/"
        },
        "id": "bKVSGNw0a2jq",
        "outputId": "2b3323e4-a060-4397-e462-26805caa4c74"
      },
      "execution_count": null,
      "outputs": [
        {
          "output_type": "execute_result",
          "data": {
            "text/plain": [
              "162"
            ]
          },
          "metadata": {},
          "execution_count": 36
        }
      ]
    },
    {
      "cell_type": "code",
      "source": [
        "x_input = test_data[62:].reshape(1,-1)\n",
        "x_input.shape"
      ],
      "metadata": {
        "colab": {
          "base_uri": "https://localhost:8080/"
        },
        "id": "ZPMThCPEnF7h",
        "outputId": "085b8462-3642-4812-a381-2a18b86017ec"
      },
      "execution_count": null,
      "outputs": [
        {
          "output_type": "execute_result",
          "data": {
            "text/plain": [
              "(1, 100)"
            ]
          },
          "metadata": {},
          "execution_count": 57
        }
      ]
    },
    {
      "cell_type": "code",
      "source": [
        "temp_input = list(x_input)\n",
        "temp_input = temp_input[0].tolist()"
      ],
      "metadata": {
        "id": "Kvc8SxJzn9L4"
      },
      "execution_count": null,
      "outputs": []
    },
    {
      "cell_type": "code",
      "source": [
        "from numpy import array\n",
        "\n",
        "lst_output = []\n",
        "n_steps = 100\n",
        "i = 0\n",
        "while (i<30):\n",
        "  if (len(temp_input)>100):\n",
        "    x_input = np.array(temp_input[1:])\n",
        "    print('{} day input {}'.format(i,x_input))\n",
        "    x_input = x_input.reshape(1,-1)\n",
        "    x_input = x_input.reshape((1,n_steps,1))\n",
        "\n",
        "    yhat = model.predict(x_input,verbose=0)\n",
        "    print('{} day output {}'.format(i,yhat))\n",
        "    temp_input.extend(yhat[0].tolist())\n",
        "    temp_input = temp_input[1:]\n",
        "    lst_output.extend(yhat.tolist())\n",
        "    i+=1\n",
        "  else:\n",
        "    x_input = x_input.reshape((1,n_steps,1))\n",
        "    yhat = model.predict(x_input,verbose=0)\n",
        "    print(yhat[0])\n",
        "    temp_input.extend(yhat[0].tolist())\n",
        "    print(len(temp_input))\n",
        "    lst_output.extend(yhat.tolist())\n",
        "    i = i+1\n",
        "  \n",
        "print(lst_output)"
      ],
      "metadata": {
        "colab": {
          "base_uri": "https://localhost:8080/"
        },
        "id": "X652uMGMoj4n",
        "outputId": "9e733ff8-751c-4b6a-e66b-129356ee1fe6"
      },
      "execution_count": null,
      "outputs": [
        {
          "output_type": "stream",
          "name": "stdout",
          "text": [
            "[0.10523263]\n",
            "101\n",
            "1 day input [0.17067004 0.17699115 0.17994099 0.17193424 0.16561313 0.1698272\n",
            " 0.17446268 0.19342601 0.19764009 0.17656971 0.18078379 0.18415506\n",
            " 0.17994099 0.17319847 0.17994099 0.19764009 0.19932576 0.18794774\n",
            " 0.26253688 0.23556676 0.2385166  0.22798142 0.21955327 0.21491782\n",
            " 0.19089761 0.18794774 0.1694058  0.18162662 0.18836914 0.19174041\n",
            " 0.18457646 0.19890433 0.21070375 0.22671725 0.20058993 0.19511168\n",
            " 0.19216178 0.1866835  0.18963337 0.19174041 0.19342601 0.19679729\n",
            " 0.18963337 0.17277707 0.17277707 0.17867675 0.16603453 0.14580699\n",
            " 0.1011378  0.13906447 0.14580699 0.15592077 0.16182045 0.14875683\n",
            " 0.15718498 0.14580699 0.12389378 0.12262957 0.11462283 0.12094394\n",
            " 0.10998735 0.10703748 0.1019806  0.09776653 0.09313105 0.07163927\n",
            " 0.07880319 0.07964599 0.08259586 0.07880319 0.08807414 0.0514117\n",
            " 0.04466919 0.04846186 0.068268   0.05478297 0.04930466 0.05983985\n",
            " 0.0514117  0.06489673 0.10661608 0.10745891 0.09818793 0.0855457\n",
            " 0.07332488 0.07248208 0.08217446 0.0855457  0.10914452 0.11546563\n",
            " 0.09523809 0.11209439 0.10788031 0.10071637 0.09987356 0.11209439\n",
            " 0.10872311 0.1011378  0.10366624 0.10523263]\n",
            "1 day output [[0.10632023]]\n",
            "2 day input [0.17699115 0.17994099 0.17193424 0.16561313 0.1698272  0.17446268\n",
            " 0.19342601 0.19764009 0.17656971 0.18078379 0.18415506 0.17994099\n",
            " 0.17319847 0.17994099 0.19764009 0.19932576 0.18794774 0.26253688\n",
            " 0.23556676 0.2385166  0.22798142 0.21955327 0.21491782 0.19089761\n",
            " 0.18794774 0.1694058  0.18162662 0.18836914 0.19174041 0.18457646\n",
            " 0.19890433 0.21070375 0.22671725 0.20058993 0.19511168 0.19216178\n",
            " 0.1866835  0.18963337 0.19174041 0.19342601 0.19679729 0.18963337\n",
            " 0.17277707 0.17277707 0.17867675 0.16603453 0.14580699 0.1011378\n",
            " 0.13906447 0.14580699 0.15592077 0.16182045 0.14875683 0.15718498\n",
            " 0.14580699 0.12389378 0.12262957 0.11462283 0.12094394 0.10998735\n",
            " 0.10703748 0.1019806  0.09776653 0.09313105 0.07163927 0.07880319\n",
            " 0.07964599 0.08259586 0.07880319 0.08807414 0.0514117  0.04466919\n",
            " 0.04846186 0.068268   0.05478297 0.04930466 0.05983985 0.0514117\n",
            " 0.06489673 0.10661608 0.10745891 0.09818793 0.0855457  0.07332488\n",
            " 0.07248208 0.08217446 0.0855457  0.10914452 0.11546563 0.09523809\n",
            " 0.11209439 0.10788031 0.10071637 0.09987356 0.11209439 0.10872311\n",
            " 0.1011378  0.10366624 0.10523263 0.10632023]\n",
            "2 day output [[0.10726508]]\n",
            "3 day input [0.17994099 0.17193424 0.16561313 0.1698272  0.17446268 0.19342601\n",
            " 0.19764009 0.17656971 0.18078379 0.18415506 0.17994099 0.17319847\n",
            " 0.17994099 0.19764009 0.19932576 0.18794774 0.26253688 0.23556676\n",
            " 0.2385166  0.22798142 0.21955327 0.21491782 0.19089761 0.18794774\n",
            " 0.1694058  0.18162662 0.18836914 0.19174041 0.18457646 0.19890433\n",
            " 0.21070375 0.22671725 0.20058993 0.19511168 0.19216178 0.1866835\n",
            " 0.18963337 0.19174041 0.19342601 0.19679729 0.18963337 0.17277707\n",
            " 0.17277707 0.17867675 0.16603453 0.14580699 0.1011378  0.13906447\n",
            " 0.14580699 0.15592077 0.16182045 0.14875683 0.15718498 0.14580699\n",
            " 0.12389378 0.12262957 0.11462283 0.12094394 0.10998735 0.10703748\n",
            " 0.1019806  0.09776653 0.09313105 0.07163927 0.07880319 0.07964599\n",
            " 0.08259586 0.07880319 0.08807414 0.0514117  0.04466919 0.04846186\n",
            " 0.068268   0.05478297 0.04930466 0.05983985 0.0514117  0.06489673\n",
            " 0.10661608 0.10745891 0.09818793 0.0855457  0.07332488 0.07248208\n",
            " 0.08217446 0.0855457  0.10914452 0.11546563 0.09523809 0.11209439\n",
            " 0.10788031 0.10071637 0.09987356 0.11209439 0.10872311 0.1011378\n",
            " 0.10366624 0.10523263 0.10632023 0.10726508]\n",
            "3 day output [[0.10808434]]\n",
            "4 day input [0.17193424 0.16561313 0.1698272  0.17446268 0.19342601 0.19764009\n",
            " 0.17656971 0.18078379 0.18415506 0.17994099 0.17319847 0.17994099\n",
            " 0.19764009 0.19932576 0.18794774 0.26253688 0.23556676 0.2385166\n",
            " 0.22798142 0.21955327 0.21491782 0.19089761 0.18794774 0.1694058\n",
            " 0.18162662 0.18836914 0.19174041 0.18457646 0.19890433 0.21070375\n",
            " 0.22671725 0.20058993 0.19511168 0.19216178 0.1866835  0.18963337\n",
            " 0.19174041 0.19342601 0.19679729 0.18963337 0.17277707 0.17277707\n",
            " 0.17867675 0.16603453 0.14580699 0.1011378  0.13906447 0.14580699\n",
            " 0.15592077 0.16182045 0.14875683 0.15718498 0.14580699 0.12389378\n",
            " 0.12262957 0.11462283 0.12094394 0.10998735 0.10703748 0.1019806\n",
            " 0.09776653 0.09313105 0.07163927 0.07880319 0.07964599 0.08259586\n",
            " 0.07880319 0.08807414 0.0514117  0.04466919 0.04846186 0.068268\n",
            " 0.05478297 0.04930466 0.05983985 0.0514117  0.06489673 0.10661608\n",
            " 0.10745891 0.09818793 0.0855457  0.07332488 0.07248208 0.08217446\n",
            " 0.0855457  0.10914452 0.11546563 0.09523809 0.11209439 0.10788031\n",
            " 0.10071637 0.09987356 0.11209439 0.10872311 0.1011378  0.10366624\n",
            " 0.10523263 0.10632023 0.10726508 0.10808434]\n",
            "4 day output [[0.10879757]]\n",
            "5 day input [0.16561313 0.1698272  0.17446268 0.19342601 0.19764009 0.17656971\n",
            " 0.18078379 0.18415506 0.17994099 0.17319847 0.17994099 0.19764009\n",
            " 0.19932576 0.18794774 0.26253688 0.23556676 0.2385166  0.22798142\n",
            " 0.21955327 0.21491782 0.19089761 0.18794774 0.1694058  0.18162662\n",
            " 0.18836914 0.19174041 0.18457646 0.19890433 0.21070375 0.22671725\n",
            " 0.20058993 0.19511168 0.19216178 0.1866835  0.18963337 0.19174041\n",
            " 0.19342601 0.19679729 0.18963337 0.17277707 0.17277707 0.17867675\n",
            " 0.16603453 0.14580699 0.1011378  0.13906447 0.14580699 0.15592077\n",
            " 0.16182045 0.14875683 0.15718498 0.14580699 0.12389378 0.12262957\n",
            " 0.11462283 0.12094394 0.10998735 0.10703748 0.1019806  0.09776653\n",
            " 0.09313105 0.07163927 0.07880319 0.07964599 0.08259586 0.07880319\n",
            " 0.08807414 0.0514117  0.04466919 0.04846186 0.068268   0.05478297\n",
            " 0.04930466 0.05983985 0.0514117  0.06489673 0.10661608 0.10745891\n",
            " 0.09818793 0.0855457  0.07332488 0.07248208 0.08217446 0.0855457\n",
            " 0.10914452 0.11546563 0.09523809 0.11209439 0.10788031 0.10071637\n",
            " 0.09987356 0.11209439 0.10872311 0.1011378  0.10366624 0.10523263\n",
            " 0.10632023 0.10726508 0.10808434 0.10879757]\n",
            "5 day output [[0.10942408]]\n",
            "6 day input [0.1698272  0.17446268 0.19342601 0.19764009 0.17656971 0.18078379\n",
            " 0.18415506 0.17994099 0.17319847 0.17994099 0.19764009 0.19932576\n",
            " 0.18794774 0.26253688 0.23556676 0.2385166  0.22798142 0.21955327\n",
            " 0.21491782 0.19089761 0.18794774 0.1694058  0.18162662 0.18836914\n",
            " 0.19174041 0.18457646 0.19890433 0.21070375 0.22671725 0.20058993\n",
            " 0.19511168 0.19216178 0.1866835  0.18963337 0.19174041 0.19342601\n",
            " 0.19679729 0.18963337 0.17277707 0.17277707 0.17867675 0.16603453\n",
            " 0.14580699 0.1011378  0.13906447 0.14580699 0.15592077 0.16182045\n",
            " 0.14875683 0.15718498 0.14580699 0.12389378 0.12262957 0.11462283\n",
            " 0.12094394 0.10998735 0.10703748 0.1019806  0.09776653 0.09313105\n",
            " 0.07163927 0.07880319 0.07964599 0.08259586 0.07880319 0.08807414\n",
            " 0.0514117  0.04466919 0.04846186 0.068268   0.05478297 0.04930466\n",
            " 0.05983985 0.0514117  0.06489673 0.10661608 0.10745891 0.09818793\n",
            " 0.0855457  0.07332488 0.07248208 0.08217446 0.0855457  0.10914452\n",
            " 0.11546563 0.09523809 0.11209439 0.10788031 0.10071637 0.09987356\n",
            " 0.11209439 0.10872311 0.1011378  0.10366624 0.10523263 0.10632023\n",
            " 0.10726508 0.10808434 0.10879757 0.10942408]\n",
            "6 day output [[0.10998134]]\n",
            "7 day input [0.17446268 0.19342601 0.19764009 0.17656971 0.18078379 0.18415506\n",
            " 0.17994099 0.17319847 0.17994099 0.19764009 0.19932576 0.18794774\n",
            " 0.26253688 0.23556676 0.2385166  0.22798142 0.21955327 0.21491782\n",
            " 0.19089761 0.18794774 0.1694058  0.18162662 0.18836914 0.19174041\n",
            " 0.18457646 0.19890433 0.21070375 0.22671725 0.20058993 0.19511168\n",
            " 0.19216178 0.1866835  0.18963337 0.19174041 0.19342601 0.19679729\n",
            " 0.18963337 0.17277707 0.17277707 0.17867675 0.16603453 0.14580699\n",
            " 0.1011378  0.13906447 0.14580699 0.15592077 0.16182045 0.14875683\n",
            " 0.15718498 0.14580699 0.12389378 0.12262957 0.11462283 0.12094394\n",
            " 0.10998735 0.10703748 0.1019806  0.09776653 0.09313105 0.07163927\n",
            " 0.07880319 0.07964599 0.08259586 0.07880319 0.08807414 0.0514117\n",
            " 0.04466919 0.04846186 0.068268   0.05478297 0.04930466 0.05983985\n",
            " 0.0514117  0.06489673 0.10661608 0.10745891 0.09818793 0.0855457\n",
            " 0.07332488 0.07248208 0.08217446 0.0855457  0.10914452 0.11546563\n",
            " 0.09523809 0.11209439 0.10788031 0.10071637 0.09987356 0.11209439\n",
            " 0.10872311 0.1011378  0.10366624 0.10523263 0.10632023 0.10726508\n",
            " 0.10808434 0.10879757 0.10942408 0.10998134]\n",
            "7 day output [[0.11048418]]\n",
            "8 day input [0.19342601 0.19764009 0.17656971 0.18078379 0.18415506 0.17994099\n",
            " 0.17319847 0.17994099 0.19764009 0.19932576 0.18794774 0.26253688\n",
            " 0.23556676 0.2385166  0.22798142 0.21955327 0.21491782 0.19089761\n",
            " 0.18794774 0.1694058  0.18162662 0.18836914 0.19174041 0.18457646\n",
            " 0.19890433 0.21070375 0.22671725 0.20058993 0.19511168 0.19216178\n",
            " 0.1866835  0.18963337 0.19174041 0.19342601 0.19679729 0.18963337\n",
            " 0.17277707 0.17277707 0.17867675 0.16603453 0.14580699 0.1011378\n",
            " 0.13906447 0.14580699 0.15592077 0.16182045 0.14875683 0.15718498\n",
            " 0.14580699 0.12389378 0.12262957 0.11462283 0.12094394 0.10998735\n",
            " 0.10703748 0.1019806  0.09776653 0.09313105 0.07163927 0.07880319\n",
            " 0.07964599 0.08259586 0.07880319 0.08807414 0.0514117  0.04466919\n",
            " 0.04846186 0.068268   0.05478297 0.04930466 0.05983985 0.0514117\n",
            " 0.06489673 0.10661608 0.10745891 0.09818793 0.0855457  0.07332488\n",
            " 0.07248208 0.08217446 0.0855457  0.10914452 0.11546563 0.09523809\n",
            " 0.11209439 0.10788031 0.10071637 0.09987356 0.11209439 0.10872311\n",
            " 0.1011378  0.10366624 0.10523263 0.10632023 0.10726508 0.10808434\n",
            " 0.10879757 0.10942408 0.10998134 0.11048418]\n",
            "8 day output [[0.11094458]]\n",
            "9 day input [0.19764009 0.17656971 0.18078379 0.18415506 0.17994099 0.17319847\n",
            " 0.17994099 0.19764009 0.19932576 0.18794774 0.26253688 0.23556676\n",
            " 0.2385166  0.22798142 0.21955327 0.21491782 0.19089761 0.18794774\n",
            " 0.1694058  0.18162662 0.18836914 0.19174041 0.18457646 0.19890433\n",
            " 0.21070375 0.22671725 0.20058993 0.19511168 0.19216178 0.1866835\n",
            " 0.18963337 0.19174041 0.19342601 0.19679729 0.18963337 0.17277707\n",
            " 0.17277707 0.17867675 0.16603453 0.14580699 0.1011378  0.13906447\n",
            " 0.14580699 0.15592077 0.16182045 0.14875683 0.15718498 0.14580699\n",
            " 0.12389378 0.12262957 0.11462283 0.12094394 0.10998735 0.10703748\n",
            " 0.1019806  0.09776653 0.09313105 0.07163927 0.07880319 0.07964599\n",
            " 0.08259586 0.07880319 0.08807414 0.0514117  0.04466919 0.04846186\n",
            " 0.068268   0.05478297 0.04930466 0.05983985 0.0514117  0.06489673\n",
            " 0.10661608 0.10745891 0.09818793 0.0855457  0.07332488 0.07248208\n",
            " 0.08217446 0.0855457  0.10914452 0.11546563 0.09523809 0.11209439\n",
            " 0.10788031 0.10071637 0.09987356 0.11209439 0.10872311 0.1011378\n",
            " 0.10366624 0.10523263 0.10632023 0.10726508 0.10808434 0.10879757\n",
            " 0.10942408 0.10998134 0.11048418 0.11094458]\n",
            "9 day output [[0.11137189]]\n",
            "10 day input [0.17656971 0.18078379 0.18415506 0.17994099 0.17319847 0.17994099\n",
            " 0.19764009 0.19932576 0.18794774 0.26253688 0.23556676 0.2385166\n",
            " 0.22798142 0.21955327 0.21491782 0.19089761 0.18794774 0.1694058\n",
            " 0.18162662 0.18836914 0.19174041 0.18457646 0.19890433 0.21070375\n",
            " 0.22671725 0.20058993 0.19511168 0.19216178 0.1866835  0.18963337\n",
            " 0.19174041 0.19342601 0.19679729 0.18963337 0.17277707 0.17277707\n",
            " 0.17867675 0.16603453 0.14580699 0.1011378  0.13906447 0.14580699\n",
            " 0.15592077 0.16182045 0.14875683 0.15718498 0.14580699 0.12389378\n",
            " 0.12262957 0.11462283 0.12094394 0.10998735 0.10703748 0.1019806\n",
            " 0.09776653 0.09313105 0.07163927 0.07880319 0.07964599 0.08259586\n",
            " 0.07880319 0.08807414 0.0514117  0.04466919 0.04846186 0.068268\n",
            " 0.05478297 0.04930466 0.05983985 0.0514117  0.06489673 0.10661608\n",
            " 0.10745891 0.09818793 0.0855457  0.07332488 0.07248208 0.08217446\n",
            " 0.0855457  0.10914452 0.11546563 0.09523809 0.11209439 0.10788031\n",
            " 0.10071637 0.09987356 0.11209439 0.10872311 0.1011378  0.10366624\n",
            " 0.10523263 0.10632023 0.10726508 0.10808434 0.10879757 0.10942408\n",
            " 0.10998134 0.11048418 0.11094458 0.11137189]\n",
            "10 day output [[0.1117731]]\n",
            "11 day input [0.18078379 0.18415506 0.17994099 0.17319847 0.17994099 0.19764009\n",
            " 0.19932576 0.18794774 0.26253688 0.23556676 0.2385166  0.22798142\n",
            " 0.21955327 0.21491782 0.19089761 0.18794774 0.1694058  0.18162662\n",
            " 0.18836914 0.19174041 0.18457646 0.19890433 0.21070375 0.22671725\n",
            " 0.20058993 0.19511168 0.19216178 0.1866835  0.18963337 0.19174041\n",
            " 0.19342601 0.19679729 0.18963337 0.17277707 0.17277707 0.17867675\n",
            " 0.16603453 0.14580699 0.1011378  0.13906447 0.14580699 0.15592077\n",
            " 0.16182045 0.14875683 0.15718498 0.14580699 0.12389378 0.12262957\n",
            " 0.11462283 0.12094394 0.10998735 0.10703748 0.1019806  0.09776653\n",
            " 0.09313105 0.07163927 0.07880319 0.07964599 0.08259586 0.07880319\n",
            " 0.08807414 0.0514117  0.04466919 0.04846186 0.068268   0.05478297\n",
            " 0.04930466 0.05983985 0.0514117  0.06489673 0.10661608 0.10745891\n",
            " 0.09818793 0.0855457  0.07332488 0.07248208 0.08217446 0.0855457\n",
            " 0.10914452 0.11546563 0.09523809 0.11209439 0.10788031 0.10071637\n",
            " 0.09987356 0.11209439 0.10872311 0.1011378  0.10366624 0.10523263\n",
            " 0.10632023 0.10726508 0.10808434 0.10879757 0.10942408 0.10998134\n",
            " 0.11048418 0.11094458 0.11137189 0.1117731 ]\n",
            "11 day output [[0.11215318]]\n",
            "12 day input [0.18415506 0.17994099 0.17319847 0.17994099 0.19764009 0.19932576\n",
            " 0.18794774 0.26253688 0.23556676 0.2385166  0.22798142 0.21955327\n",
            " 0.21491782 0.19089761 0.18794774 0.1694058  0.18162662 0.18836914\n",
            " 0.19174041 0.18457646 0.19890433 0.21070375 0.22671725 0.20058993\n",
            " 0.19511168 0.19216178 0.1866835  0.18963337 0.19174041 0.19342601\n",
            " 0.19679729 0.18963337 0.17277707 0.17277707 0.17867675 0.16603453\n",
            " 0.14580699 0.1011378  0.13906447 0.14580699 0.15592077 0.16182045\n",
            " 0.14875683 0.15718498 0.14580699 0.12389378 0.12262957 0.11462283\n",
            " 0.12094394 0.10998735 0.10703748 0.1019806  0.09776653 0.09313105\n",
            " 0.07163927 0.07880319 0.07964599 0.08259586 0.07880319 0.08807414\n",
            " 0.0514117  0.04466919 0.04846186 0.068268   0.05478297 0.04930466\n",
            " 0.05983985 0.0514117  0.06489673 0.10661608 0.10745891 0.09818793\n",
            " 0.0855457  0.07332488 0.07248208 0.08217446 0.0855457  0.10914452\n",
            " 0.11546563 0.09523809 0.11209439 0.10788031 0.10071637 0.09987356\n",
            " 0.11209439 0.10872311 0.1011378  0.10366624 0.10523263 0.10632023\n",
            " 0.10726508 0.10808434 0.10879757 0.10942408 0.10998134 0.11048418\n",
            " 0.11094458 0.11137189 0.1117731  0.11215318]\n",
            "12 day output [[0.1125156]]\n",
            "13 day input [0.17994099 0.17319847 0.17994099 0.19764009 0.19932576 0.18794774\n",
            " 0.26253688 0.23556676 0.2385166  0.22798142 0.21955327 0.21491782\n",
            " 0.19089761 0.18794774 0.1694058  0.18162662 0.18836914 0.19174041\n",
            " 0.18457646 0.19890433 0.21070375 0.22671725 0.20058993 0.19511168\n",
            " 0.19216178 0.1866835  0.18963337 0.19174041 0.19342601 0.19679729\n",
            " 0.18963337 0.17277707 0.17277707 0.17867675 0.16603453 0.14580699\n",
            " 0.1011378  0.13906447 0.14580699 0.15592077 0.16182045 0.14875683\n",
            " 0.15718498 0.14580699 0.12389378 0.12262957 0.11462283 0.12094394\n",
            " 0.10998735 0.10703748 0.1019806  0.09776653 0.09313105 0.07163927\n",
            " 0.07880319 0.07964599 0.08259586 0.07880319 0.08807414 0.0514117\n",
            " 0.04466919 0.04846186 0.068268   0.05478297 0.04930466 0.05983985\n",
            " 0.0514117  0.06489673 0.10661608 0.10745891 0.09818793 0.0855457\n",
            " 0.07332488 0.07248208 0.08217446 0.0855457  0.10914452 0.11546563\n",
            " 0.09523809 0.11209439 0.10788031 0.10071637 0.09987356 0.11209439\n",
            " 0.10872311 0.1011378  0.10366624 0.10523263 0.10632023 0.10726508\n",
            " 0.10808434 0.10879757 0.10942408 0.10998134 0.11048418 0.11094458\n",
            " 0.11137189 0.1117731  0.11215318 0.1125156 ]\n",
            "13 day output [[0.11286275]]\n",
            "14 day input [0.17319847 0.17994099 0.19764009 0.19932576 0.18794774 0.26253688\n",
            " 0.23556676 0.2385166  0.22798142 0.21955327 0.21491782 0.19089761\n",
            " 0.18794774 0.1694058  0.18162662 0.18836914 0.19174041 0.18457646\n",
            " 0.19890433 0.21070375 0.22671725 0.20058993 0.19511168 0.19216178\n",
            " 0.1866835  0.18963337 0.19174041 0.19342601 0.19679729 0.18963337\n",
            " 0.17277707 0.17277707 0.17867675 0.16603453 0.14580699 0.1011378\n",
            " 0.13906447 0.14580699 0.15592077 0.16182045 0.14875683 0.15718498\n",
            " 0.14580699 0.12389378 0.12262957 0.11462283 0.12094394 0.10998735\n",
            " 0.10703748 0.1019806  0.09776653 0.09313105 0.07163927 0.07880319\n",
            " 0.07964599 0.08259586 0.07880319 0.08807414 0.0514117  0.04466919\n",
            " 0.04846186 0.068268   0.05478297 0.04930466 0.05983985 0.0514117\n",
            " 0.06489673 0.10661608 0.10745891 0.09818793 0.0855457  0.07332488\n",
            " 0.07248208 0.08217446 0.0855457  0.10914452 0.11546563 0.09523809\n",
            " 0.11209439 0.10788031 0.10071637 0.09987356 0.11209439 0.10872311\n",
            " 0.1011378  0.10366624 0.10523263 0.10632023 0.10726508 0.10808434\n",
            " 0.10879757 0.10942408 0.10998134 0.11048418 0.11094458 0.11137189\n",
            " 0.1117731  0.11215318 0.1125156  0.11286275]\n",
            "14 day output [[0.11319619]]\n",
            "15 day input [0.17994099 0.19764009 0.19932576 0.18794774 0.26253688 0.23556676\n",
            " 0.2385166  0.22798142 0.21955327 0.21491782 0.19089761 0.18794774\n",
            " 0.1694058  0.18162662 0.18836914 0.19174041 0.18457646 0.19890433\n",
            " 0.21070375 0.22671725 0.20058993 0.19511168 0.19216178 0.1866835\n",
            " 0.18963337 0.19174041 0.19342601 0.19679729 0.18963337 0.17277707\n",
            " 0.17277707 0.17867675 0.16603453 0.14580699 0.1011378  0.13906447\n",
            " 0.14580699 0.15592077 0.16182045 0.14875683 0.15718498 0.14580699\n",
            " 0.12389378 0.12262957 0.11462283 0.12094394 0.10998735 0.10703748\n",
            " 0.1019806  0.09776653 0.09313105 0.07163927 0.07880319 0.07964599\n",
            " 0.08259586 0.07880319 0.08807414 0.0514117  0.04466919 0.04846186\n",
            " 0.068268   0.05478297 0.04930466 0.05983985 0.0514117  0.06489673\n",
            " 0.10661608 0.10745891 0.09818793 0.0855457  0.07332488 0.07248208\n",
            " 0.08217446 0.0855457  0.10914452 0.11546563 0.09523809 0.11209439\n",
            " 0.10788031 0.10071637 0.09987356 0.11209439 0.10872311 0.1011378\n",
            " 0.10366624 0.10523263 0.10632023 0.10726508 0.10808434 0.10879757\n",
            " 0.10942408 0.10998134 0.11048418 0.11094458 0.11137189 0.1117731\n",
            " 0.11215318 0.1125156  0.11286275 0.11319619]\n",
            "15 day output [[0.11351684]]\n",
            "16 day input [0.19764009 0.19932576 0.18794774 0.26253688 0.23556676 0.2385166\n",
            " 0.22798142 0.21955327 0.21491782 0.19089761 0.18794774 0.1694058\n",
            " 0.18162662 0.18836914 0.19174041 0.18457646 0.19890433 0.21070375\n",
            " 0.22671725 0.20058993 0.19511168 0.19216178 0.1866835  0.18963337\n",
            " 0.19174041 0.19342601 0.19679729 0.18963337 0.17277707 0.17277707\n",
            " 0.17867675 0.16603453 0.14580699 0.1011378  0.13906447 0.14580699\n",
            " 0.15592077 0.16182045 0.14875683 0.15718498 0.14580699 0.12389378\n",
            " 0.12262957 0.11462283 0.12094394 0.10998735 0.10703748 0.1019806\n",
            " 0.09776653 0.09313105 0.07163927 0.07880319 0.07964599 0.08259586\n",
            " 0.07880319 0.08807414 0.0514117  0.04466919 0.04846186 0.068268\n",
            " 0.05478297 0.04930466 0.05983985 0.0514117  0.06489673 0.10661608\n",
            " 0.10745891 0.09818793 0.0855457  0.07332488 0.07248208 0.08217446\n",
            " 0.0855457  0.10914452 0.11546563 0.09523809 0.11209439 0.10788031\n",
            " 0.10071637 0.09987356 0.11209439 0.10872311 0.1011378  0.10366624\n",
            " 0.10523263 0.10632023 0.10726508 0.10808434 0.10879757 0.10942408\n",
            " 0.10998134 0.11048418 0.11094458 0.11137189 0.1117731  0.11215318\n",
            " 0.1125156  0.11286275 0.11319619 0.11351684]\n",
            "16 day output [[0.11382543]]\n",
            "17 day input [0.19932576 0.18794774 0.26253688 0.23556676 0.2385166  0.22798142\n",
            " 0.21955327 0.21491782 0.19089761 0.18794774 0.1694058  0.18162662\n",
            " 0.18836914 0.19174041 0.18457646 0.19890433 0.21070375 0.22671725\n",
            " 0.20058993 0.19511168 0.19216178 0.1866835  0.18963337 0.19174041\n",
            " 0.19342601 0.19679729 0.18963337 0.17277707 0.17277707 0.17867675\n",
            " 0.16603453 0.14580699 0.1011378  0.13906447 0.14580699 0.15592077\n",
            " 0.16182045 0.14875683 0.15718498 0.14580699 0.12389378 0.12262957\n",
            " 0.11462283 0.12094394 0.10998735 0.10703748 0.1019806  0.09776653\n",
            " 0.09313105 0.07163927 0.07880319 0.07964599 0.08259586 0.07880319\n",
            " 0.08807414 0.0514117  0.04466919 0.04846186 0.068268   0.05478297\n",
            " 0.04930466 0.05983985 0.0514117  0.06489673 0.10661608 0.10745891\n",
            " 0.09818793 0.0855457  0.07332488 0.07248208 0.08217446 0.0855457\n",
            " 0.10914452 0.11546563 0.09523809 0.11209439 0.10788031 0.10071637\n",
            " 0.09987356 0.11209439 0.10872311 0.1011378  0.10366624 0.10523263\n",
            " 0.10632023 0.10726508 0.10808434 0.10879757 0.10942408 0.10998134\n",
            " 0.11048418 0.11094458 0.11137189 0.1117731  0.11215318 0.1125156\n",
            " 0.11286275 0.11319619 0.11351684 0.11382543]\n",
            "17 day output [[0.11412235]]\n",
            "18 day input [0.18794774 0.26253688 0.23556676 0.2385166  0.22798142 0.21955327\n",
            " 0.21491782 0.19089761 0.18794774 0.1694058  0.18162662 0.18836914\n",
            " 0.19174041 0.18457646 0.19890433 0.21070375 0.22671725 0.20058993\n",
            " 0.19511168 0.19216178 0.1866835  0.18963337 0.19174041 0.19342601\n",
            " 0.19679729 0.18963337 0.17277707 0.17277707 0.17867675 0.16603453\n",
            " 0.14580699 0.1011378  0.13906447 0.14580699 0.15592077 0.16182045\n",
            " 0.14875683 0.15718498 0.14580699 0.12389378 0.12262957 0.11462283\n",
            " 0.12094394 0.10998735 0.10703748 0.1019806  0.09776653 0.09313105\n",
            " 0.07163927 0.07880319 0.07964599 0.08259586 0.07880319 0.08807414\n",
            " 0.0514117  0.04466919 0.04846186 0.068268   0.05478297 0.04930466\n",
            " 0.05983985 0.0514117  0.06489673 0.10661608 0.10745891 0.09818793\n",
            " 0.0855457  0.07332488 0.07248208 0.08217446 0.0855457  0.10914452\n",
            " 0.11546563 0.09523809 0.11209439 0.10788031 0.10071637 0.09987356\n",
            " 0.11209439 0.10872311 0.1011378  0.10366624 0.10523263 0.10632023\n",
            " 0.10726508 0.10808434 0.10879757 0.10942408 0.10998134 0.11048418\n",
            " 0.11094458 0.11137189 0.1117731  0.11215318 0.1125156  0.11286275\n",
            " 0.11319619 0.11351684 0.11382543 0.11412235]\n",
            "18 day output [[0.11440793]]\n",
            "19 day input [0.26253688 0.23556676 0.2385166  0.22798142 0.21955327 0.21491782\n",
            " 0.19089761 0.18794774 0.1694058  0.18162662 0.18836914 0.19174041\n",
            " 0.18457646 0.19890433 0.21070375 0.22671725 0.20058993 0.19511168\n",
            " 0.19216178 0.1866835  0.18963337 0.19174041 0.19342601 0.19679729\n",
            " 0.18963337 0.17277707 0.17277707 0.17867675 0.16603453 0.14580699\n",
            " 0.1011378  0.13906447 0.14580699 0.15592077 0.16182045 0.14875683\n",
            " 0.15718498 0.14580699 0.12389378 0.12262957 0.11462283 0.12094394\n",
            " 0.10998735 0.10703748 0.1019806  0.09776653 0.09313105 0.07163927\n",
            " 0.07880319 0.07964599 0.08259586 0.07880319 0.08807414 0.0514117\n",
            " 0.04466919 0.04846186 0.068268   0.05478297 0.04930466 0.05983985\n",
            " 0.0514117  0.06489673 0.10661608 0.10745891 0.09818793 0.0855457\n",
            " 0.07332488 0.07248208 0.08217446 0.0855457  0.10914452 0.11546563\n",
            " 0.09523809 0.11209439 0.10788031 0.10071637 0.09987356 0.11209439\n",
            " 0.10872311 0.1011378  0.10366624 0.10523263 0.10632023 0.10726508\n",
            " 0.10808434 0.10879757 0.10942408 0.10998134 0.11048418 0.11094458\n",
            " 0.11137189 0.1117731  0.11215318 0.1125156  0.11286275 0.11319619\n",
            " 0.11351684 0.11382543 0.11412235 0.11440793]\n",
            "19 day output [[0.11468252]]\n",
            "20 day input [0.23556676 0.2385166  0.22798142 0.21955327 0.21491782 0.19089761\n",
            " 0.18794774 0.1694058  0.18162662 0.18836914 0.19174041 0.18457646\n",
            " 0.19890433 0.21070375 0.22671725 0.20058993 0.19511168 0.19216178\n",
            " 0.1866835  0.18963337 0.19174041 0.19342601 0.19679729 0.18963337\n",
            " 0.17277707 0.17277707 0.17867675 0.16603453 0.14580699 0.1011378\n",
            " 0.13906447 0.14580699 0.15592077 0.16182045 0.14875683 0.15718498\n",
            " 0.14580699 0.12389378 0.12262957 0.11462283 0.12094394 0.10998735\n",
            " 0.10703748 0.1019806  0.09776653 0.09313105 0.07163927 0.07880319\n",
            " 0.07964599 0.08259586 0.07880319 0.08807414 0.0514117  0.04466919\n",
            " 0.04846186 0.068268   0.05478297 0.04930466 0.05983985 0.0514117\n",
            " 0.06489673 0.10661608 0.10745891 0.09818793 0.0855457  0.07332488\n",
            " 0.07248208 0.08217446 0.0855457  0.10914452 0.11546563 0.09523809\n",
            " 0.11209439 0.10788031 0.10071637 0.09987356 0.11209439 0.10872311\n",
            " 0.1011378  0.10366624 0.10523263 0.10632023 0.10726508 0.10808434\n",
            " 0.10879757 0.10942408 0.10998134 0.11048418 0.11094458 0.11137189\n",
            " 0.1117731  0.11215318 0.1125156  0.11286275 0.11319619 0.11351684\n",
            " 0.11382543 0.11412235 0.11440793 0.11468252]\n",
            "20 day output [[0.11494628]]\n",
            "21 day input [0.2385166  0.22798142 0.21955327 0.21491782 0.19089761 0.18794774\n",
            " 0.1694058  0.18162662 0.18836914 0.19174041 0.18457646 0.19890433\n",
            " 0.21070375 0.22671725 0.20058993 0.19511168 0.19216178 0.1866835\n",
            " 0.18963337 0.19174041 0.19342601 0.19679729 0.18963337 0.17277707\n",
            " 0.17277707 0.17867675 0.16603453 0.14580699 0.1011378  0.13906447\n",
            " 0.14580699 0.15592077 0.16182045 0.14875683 0.15718498 0.14580699\n",
            " 0.12389378 0.12262957 0.11462283 0.12094394 0.10998735 0.10703748\n",
            " 0.1019806  0.09776653 0.09313105 0.07163927 0.07880319 0.07964599\n",
            " 0.08259586 0.07880319 0.08807414 0.0514117  0.04466919 0.04846186\n",
            " 0.068268   0.05478297 0.04930466 0.05983985 0.0514117  0.06489673\n",
            " 0.10661608 0.10745891 0.09818793 0.0855457  0.07332488 0.07248208\n",
            " 0.08217446 0.0855457  0.10914452 0.11546563 0.09523809 0.11209439\n",
            " 0.10788031 0.10071637 0.09987356 0.11209439 0.10872311 0.1011378\n",
            " 0.10366624 0.10523263 0.10632023 0.10726508 0.10808434 0.10879757\n",
            " 0.10942408 0.10998134 0.11048418 0.11094458 0.11137189 0.1117731\n",
            " 0.11215318 0.1125156  0.11286275 0.11319619 0.11351684 0.11382543\n",
            " 0.11412235 0.11440793 0.11468252 0.11494628]\n",
            "21 day output [[0.11519957]]\n",
            "22 day input [0.22798142 0.21955327 0.21491782 0.19089761 0.18794774 0.1694058\n",
            " 0.18162662 0.18836914 0.19174041 0.18457646 0.19890433 0.21070375\n",
            " 0.22671725 0.20058993 0.19511168 0.19216178 0.1866835  0.18963337\n",
            " 0.19174041 0.19342601 0.19679729 0.18963337 0.17277707 0.17277707\n",
            " 0.17867675 0.16603453 0.14580699 0.1011378  0.13906447 0.14580699\n",
            " 0.15592077 0.16182045 0.14875683 0.15718498 0.14580699 0.12389378\n",
            " 0.12262957 0.11462283 0.12094394 0.10998735 0.10703748 0.1019806\n",
            " 0.09776653 0.09313105 0.07163927 0.07880319 0.07964599 0.08259586\n",
            " 0.07880319 0.08807414 0.0514117  0.04466919 0.04846186 0.068268\n",
            " 0.05478297 0.04930466 0.05983985 0.0514117  0.06489673 0.10661608\n",
            " 0.10745891 0.09818793 0.0855457  0.07332488 0.07248208 0.08217446\n",
            " 0.0855457  0.10914452 0.11546563 0.09523809 0.11209439 0.10788031\n",
            " 0.10071637 0.09987356 0.11209439 0.10872311 0.1011378  0.10366624\n",
            " 0.10523263 0.10632023 0.10726508 0.10808434 0.10879757 0.10942408\n",
            " 0.10998134 0.11048418 0.11094458 0.11137189 0.1117731  0.11215318\n",
            " 0.1125156  0.11286275 0.11319619 0.11351684 0.11382543 0.11412235\n",
            " 0.11440793 0.11468252 0.11494628 0.11519957]\n",
            "22 day output [[0.11544269]]\n",
            "23 day input [0.21955327 0.21491782 0.19089761 0.18794774 0.1694058  0.18162662\n",
            " 0.18836914 0.19174041 0.18457646 0.19890433 0.21070375 0.22671725\n",
            " 0.20058993 0.19511168 0.19216178 0.1866835  0.18963337 0.19174041\n",
            " 0.19342601 0.19679729 0.18963337 0.17277707 0.17277707 0.17867675\n",
            " 0.16603453 0.14580699 0.1011378  0.13906447 0.14580699 0.15592077\n",
            " 0.16182045 0.14875683 0.15718498 0.14580699 0.12389378 0.12262957\n",
            " 0.11462283 0.12094394 0.10998735 0.10703748 0.1019806  0.09776653\n",
            " 0.09313105 0.07163927 0.07880319 0.07964599 0.08259586 0.07880319\n",
            " 0.08807414 0.0514117  0.04466919 0.04846186 0.068268   0.05478297\n",
            " 0.04930466 0.05983985 0.0514117  0.06489673 0.10661608 0.10745891\n",
            " 0.09818793 0.0855457  0.07332488 0.07248208 0.08217446 0.0855457\n",
            " 0.10914452 0.11546563 0.09523809 0.11209439 0.10788031 0.10071637\n",
            " 0.09987356 0.11209439 0.10872311 0.1011378  0.10366624 0.10523263\n",
            " 0.10632023 0.10726508 0.10808434 0.10879757 0.10942408 0.10998134\n",
            " 0.11048418 0.11094458 0.11137189 0.1117731  0.11215318 0.1125156\n",
            " 0.11286275 0.11319619 0.11351684 0.11382543 0.11412235 0.11440793\n",
            " 0.11468252 0.11494628 0.11519957 0.11544269]\n",
            "23 day output [[0.11567596]]\n",
            "24 day input [0.21491782 0.19089761 0.18794774 0.1694058  0.18162662 0.18836914\n",
            " 0.19174041 0.18457646 0.19890433 0.21070375 0.22671725 0.20058993\n",
            " 0.19511168 0.19216178 0.1866835  0.18963337 0.19174041 0.19342601\n",
            " 0.19679729 0.18963337 0.17277707 0.17277707 0.17867675 0.16603453\n",
            " 0.14580699 0.1011378  0.13906447 0.14580699 0.15592077 0.16182045\n",
            " 0.14875683 0.15718498 0.14580699 0.12389378 0.12262957 0.11462283\n",
            " 0.12094394 0.10998735 0.10703748 0.1019806  0.09776653 0.09313105\n",
            " 0.07163927 0.07880319 0.07964599 0.08259586 0.07880319 0.08807414\n",
            " 0.0514117  0.04466919 0.04846186 0.068268   0.05478297 0.04930466\n",
            " 0.05983985 0.0514117  0.06489673 0.10661608 0.10745891 0.09818793\n",
            " 0.0855457  0.07332488 0.07248208 0.08217446 0.0855457  0.10914452\n",
            " 0.11546563 0.09523809 0.11209439 0.10788031 0.10071637 0.09987356\n",
            " 0.11209439 0.10872311 0.1011378  0.10366624 0.10523263 0.10632023\n",
            " 0.10726508 0.10808434 0.10879757 0.10942408 0.10998134 0.11048418\n",
            " 0.11094458 0.11137189 0.1117731  0.11215318 0.1125156  0.11286275\n",
            " 0.11319619 0.11351684 0.11382543 0.11412235 0.11440793 0.11468252\n",
            " 0.11494628 0.11519957 0.11544269 0.11567596]\n",
            "24 day output [[0.11589971]]\n",
            "25 day input [0.19089761 0.18794774 0.1694058  0.18162662 0.18836914 0.19174041\n",
            " 0.18457646 0.19890433 0.21070375 0.22671725 0.20058993 0.19511168\n",
            " 0.19216178 0.1866835  0.18963337 0.19174041 0.19342601 0.19679729\n",
            " 0.18963337 0.17277707 0.17277707 0.17867675 0.16603453 0.14580699\n",
            " 0.1011378  0.13906447 0.14580699 0.15592077 0.16182045 0.14875683\n",
            " 0.15718498 0.14580699 0.12389378 0.12262957 0.11462283 0.12094394\n",
            " 0.10998735 0.10703748 0.1019806  0.09776653 0.09313105 0.07163927\n",
            " 0.07880319 0.07964599 0.08259586 0.07880319 0.08807414 0.0514117\n",
            " 0.04466919 0.04846186 0.068268   0.05478297 0.04930466 0.05983985\n",
            " 0.0514117  0.06489673 0.10661608 0.10745891 0.09818793 0.0855457\n",
            " 0.07332488 0.07248208 0.08217446 0.0855457  0.10914452 0.11546563\n",
            " 0.09523809 0.11209439 0.10788031 0.10071637 0.09987356 0.11209439\n",
            " 0.10872311 0.1011378  0.10366624 0.10523263 0.10632023 0.10726508\n",
            " 0.10808434 0.10879757 0.10942408 0.10998134 0.11048418 0.11094458\n",
            " 0.11137189 0.1117731  0.11215318 0.1125156  0.11286275 0.11319619\n",
            " 0.11351684 0.11382543 0.11412235 0.11440793 0.11468252 0.11494628\n",
            " 0.11519957 0.11544269 0.11567596 0.11589971]\n",
            "25 day output [[0.1161143]]\n",
            "26 day input [0.18794774 0.1694058  0.18162662 0.18836914 0.19174041 0.18457646\n",
            " 0.19890433 0.21070375 0.22671725 0.20058993 0.19511168 0.19216178\n",
            " 0.1866835  0.18963337 0.19174041 0.19342601 0.19679729 0.18963337\n",
            " 0.17277707 0.17277707 0.17867675 0.16603453 0.14580699 0.1011378\n",
            " 0.13906447 0.14580699 0.15592077 0.16182045 0.14875683 0.15718498\n",
            " 0.14580699 0.12389378 0.12262957 0.11462283 0.12094394 0.10998735\n",
            " 0.10703748 0.1019806  0.09776653 0.09313105 0.07163927 0.07880319\n",
            " 0.07964599 0.08259586 0.07880319 0.08807414 0.0514117  0.04466919\n",
            " 0.04846186 0.068268   0.05478297 0.04930466 0.05983985 0.0514117\n",
            " 0.06489673 0.10661608 0.10745891 0.09818793 0.0855457  0.07332488\n",
            " 0.07248208 0.08217446 0.0855457  0.10914452 0.11546563 0.09523809\n",
            " 0.11209439 0.10788031 0.10071637 0.09987356 0.11209439 0.10872311\n",
            " 0.1011378  0.10366624 0.10523263 0.10632023 0.10726508 0.10808434\n",
            " 0.10879757 0.10942408 0.10998134 0.11048418 0.11094458 0.11137189\n",
            " 0.1117731  0.11215318 0.1125156  0.11286275 0.11319619 0.11351684\n",
            " 0.11382543 0.11412235 0.11440793 0.11468252 0.11494628 0.11519957\n",
            " 0.11544269 0.11567596 0.11589971 0.1161143 ]\n",
            "26 day output [[0.1163201]]\n",
            "27 day input [0.1694058  0.18162662 0.18836914 0.19174041 0.18457646 0.19890433\n",
            " 0.21070375 0.22671725 0.20058993 0.19511168 0.19216178 0.1866835\n",
            " 0.18963337 0.19174041 0.19342601 0.19679729 0.18963337 0.17277707\n",
            " 0.17277707 0.17867675 0.16603453 0.14580699 0.1011378  0.13906447\n",
            " 0.14580699 0.15592077 0.16182045 0.14875683 0.15718498 0.14580699\n",
            " 0.12389378 0.12262957 0.11462283 0.12094394 0.10998735 0.10703748\n",
            " 0.1019806  0.09776653 0.09313105 0.07163927 0.07880319 0.07964599\n",
            " 0.08259586 0.07880319 0.08807414 0.0514117  0.04466919 0.04846186\n",
            " 0.068268   0.05478297 0.04930466 0.05983985 0.0514117  0.06489673\n",
            " 0.10661608 0.10745891 0.09818793 0.0855457  0.07332488 0.07248208\n",
            " 0.08217446 0.0855457  0.10914452 0.11546563 0.09523809 0.11209439\n",
            " 0.10788031 0.10071637 0.09987356 0.11209439 0.10872311 0.1011378\n",
            " 0.10366624 0.10523263 0.10632023 0.10726508 0.10808434 0.10879757\n",
            " 0.10942408 0.10998134 0.11048418 0.11094458 0.11137189 0.1117731\n",
            " 0.11215318 0.1125156  0.11286275 0.11319619 0.11351684 0.11382543\n",
            " 0.11412235 0.11440793 0.11468252 0.11494628 0.11519957 0.11544269\n",
            " 0.11567596 0.11589971 0.1161143  0.1163201 ]\n",
            "27 day output [[0.11651745]]\n",
            "28 day input [0.18162662 0.18836914 0.19174041 0.18457646 0.19890433 0.21070375\n",
            " 0.22671725 0.20058993 0.19511168 0.19216178 0.1866835  0.18963337\n",
            " 0.19174041 0.19342601 0.19679729 0.18963337 0.17277707 0.17277707\n",
            " 0.17867675 0.16603453 0.14580699 0.1011378  0.13906447 0.14580699\n",
            " 0.15592077 0.16182045 0.14875683 0.15718498 0.14580699 0.12389378\n",
            " 0.12262957 0.11462283 0.12094394 0.10998735 0.10703748 0.1019806\n",
            " 0.09776653 0.09313105 0.07163927 0.07880319 0.07964599 0.08259586\n",
            " 0.07880319 0.08807414 0.0514117  0.04466919 0.04846186 0.068268\n",
            " 0.05478297 0.04930466 0.05983985 0.0514117  0.06489673 0.10661608\n",
            " 0.10745891 0.09818793 0.0855457  0.07332488 0.07248208 0.08217446\n",
            " 0.0855457  0.10914452 0.11546563 0.09523809 0.11209439 0.10788031\n",
            " 0.10071637 0.09987356 0.11209439 0.10872311 0.1011378  0.10366624\n",
            " 0.10523263 0.10632023 0.10726508 0.10808434 0.10879757 0.10942408\n",
            " 0.10998134 0.11048418 0.11094458 0.11137189 0.1117731  0.11215318\n",
            " 0.1125156  0.11286275 0.11319619 0.11351684 0.11382543 0.11412235\n",
            " 0.11440793 0.11468252 0.11494628 0.11519957 0.11544269 0.11567596\n",
            " 0.11589971 0.1161143  0.1163201  0.11651745]\n",
            "28 day output [[0.1167067]]\n",
            "29 day input [0.18836914 0.19174041 0.18457646 0.19890433 0.21070375 0.22671725\n",
            " 0.20058993 0.19511168 0.19216178 0.1866835  0.18963337 0.19174041\n",
            " 0.19342601 0.19679729 0.18963337 0.17277707 0.17277707 0.17867675\n",
            " 0.16603453 0.14580699 0.1011378  0.13906447 0.14580699 0.15592077\n",
            " 0.16182045 0.14875683 0.15718498 0.14580699 0.12389378 0.12262957\n",
            " 0.11462283 0.12094394 0.10998735 0.10703748 0.1019806  0.09776653\n",
            " 0.09313105 0.07163927 0.07880319 0.07964599 0.08259586 0.07880319\n",
            " 0.08807414 0.0514117  0.04466919 0.04846186 0.068268   0.05478297\n",
            " 0.04930466 0.05983985 0.0514117  0.06489673 0.10661608 0.10745891\n",
            " 0.09818793 0.0855457  0.07332488 0.07248208 0.08217446 0.0855457\n",
            " 0.10914452 0.11546563 0.09523809 0.11209439 0.10788031 0.10071637\n",
            " 0.09987356 0.11209439 0.10872311 0.1011378  0.10366624 0.10523263\n",
            " 0.10632023 0.10726508 0.10808434 0.10879757 0.10942408 0.10998134\n",
            " 0.11048418 0.11094458 0.11137189 0.1117731  0.11215318 0.1125156\n",
            " 0.11286275 0.11319619 0.11351684 0.11382543 0.11412235 0.11440793\n",
            " 0.11468252 0.11494628 0.11519957 0.11544269 0.11567596 0.11589971\n",
            " 0.1161143  0.1163201  0.11651745 0.1167067 ]\n",
            "29 day output [[0.1168882]]\n",
            "[[0.10523262619972229], [0.10632023215293884], [0.10726508498191833], [0.10808434337377548], [0.10879756510257721], [0.10942407697439194], [0.10998133569955826], [0.11048418283462524], [0.11094457656145096], [0.11137188971042633], [0.11177310347557068], [0.11215317994356155], [0.11251559853553772], [0.11286275088787079], [0.11319618672132492], [0.11351684480905533], [0.11382542550563812], [0.11412235349416733], [0.11440793424844742], [0.11468251794576645], [0.11494627594947815], [0.11519956588745117], [0.1154426857829094], [0.11567595601081848], [0.1158997118473053], [0.1161143034696579], [0.11632010340690613], [0.11651744693517685], [0.11670669913291931], [0.11688819527626038]]\n"
          ]
        }
      ]
    },
    {
      "cell_type": "code",
      "source": [
        "day_new = np.arange(1,101)\n",
        "day_pred = np.arange(101,131)"
      ],
      "metadata": {
        "id": "vGsRd4tiKgm3"
      },
      "execution_count": null,
      "outputs": []
    },
    {
      "cell_type": "code",
      "source": [
        "len(close)"
      ],
      "metadata": {
        "colab": {
          "base_uri": "https://localhost:8080/"
        },
        "id": "dPL4U9SiM1hx",
        "outputId": "7748ad07-2e06-4027-ff6b-ae8da0538123"
      },
      "execution_count": null,
      "outputs": [
        {
          "output_type": "execute_result",
          "data": {
            "text/plain": [
              "404"
            ]
          },
          "metadata": {},
          "execution_count": 61
        }
      ]
    },
    {
      "cell_type": "code",
      "source": [
        "close1 = close.tolist()\n",
        "close1.extend(lst_output)"
      ],
      "metadata": {
        "id": "W5BxayssPaQN"
      },
      "execution_count": null,
      "outputs": []
    },
    {
      "cell_type": "code",
      "source": [
        "plt.plot(day_new,scalar.inverse_transform(close[304:]))\n",
        "plt.plot(day_pred,scalar.inverse_transform(lst_output))"
      ],
      "metadata": {
        "colab": {
          "base_uri": "https://localhost:8080/",
          "height": 282
        },
        "id": "IZ0cZdpxPiF3",
        "outputId": "08e04e24-841d-43bf-93aa-408f40524ef9"
      },
      "execution_count": null,
      "outputs": [
        {
          "output_type": "execute_result",
          "data": {
            "text/plain": [
              "[<matplotlib.lines.Line2D at 0x7f00b1570160>]"
            ]
          },
          "metadata": {},
          "execution_count": 64
        },
        {
          "output_type": "display_data",
          "data": {
            "text/plain": [
              "<Figure size 432x288 with 1 Axes>"
            ],
            "image/png": "[encoded data removed]"
          },
          "metadata": {
            "needs_background": "light"
          }
        }
      ]
    },
    {
      "cell_type": "code",
      "source": [],
      "metadata": {
        "id": "o7P72DgzQAva"
      },
      "execution_count": null,
      "outputs": []
    }
  ]
}